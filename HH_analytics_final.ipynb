{
 "cells": [
  {
   "cell_type": "markdown",
   "id": "97ab72f1-77f5-495f-9804-efdaadd54475",
   "metadata": {},
   "source": [
    "# Анализ вакансий  для Аналитиков данных и специалистов Data Science с сайта HH.ru"
   ]
  },
  {
   "cell_type": "markdown",
   "id": "079aabc3-83bd-4080-9f9a-72a44410dc18",
   "metadata": {},
   "source": [
    "# Описание и план проекта"
   ]
  },
  {
   "cell_type": "markdown",
   "id": "0cb709dd-2a72-462d-b9df-b7fd5dd3f1dd",
   "metadata": {},
   "source": [
    "Предстоит поработать с данными с сайта вакансий HH.ru\n",
    "\n",
    "Доступны 2 датасета - вакансии Аналитиков данных и Дата-сайентистов.\n",
    "\n",
    "**Цель проекта**: Выявить различия в предлагаемых вакансиях для Аналитиков данных и Дата-сайентистов.\n",
    "\n",
    "**План проекта**: \n",
    "- загрузка данных\n",
    "- предобработка данных;\n",
    "- исследовательский анализ данных;\n",
    "- определение наиболее желаемых кандидатов на вакансии;\n",
    "- формулирование выводов и рекомендаций\n",
    "- подготовка презентации"
   ]
  },
  {
   "cell_type": "markdown",
   "id": "2fe31cb2-0f75-4da5-90df-9c8aa28a6ed7",
   "metadata": {},
   "source": [
    "Ссылка на презентацию: https://disk.yandex.ru/i/rNB2OYegypWQug"
   ]
  },
  {
   "cell_type": "markdown",
   "id": "ffa4967e-935f-4c35-92ab-29b11415f5d4",
   "metadata": {},
   "source": [
    "## Загрузка данных"
   ]
  },
  {
   "cell_type": "markdown",
   "id": "d74755a0-6c72-4491-a131-c61301987f9e",
   "metadata": {},
   "source": [
    "Импортируем библиотеки pandas, matplotlib, seaborn. Считаем данные из csv-файла, зададим цветовую палитру для графиков."
   ]
  },
  {
   "cell_type": "code",
   "execution_count": 1,
   "id": "054a9e37-5f9b-4882-8556-bfde0fc7a3d5",
   "metadata": {},
   "outputs": [
    {
     "data": {
      "text/plain": [
       "<Figure size 640x480 with 0 Axes>"
      ]
     },
     "metadata": {},
     "output_type": "display_data"
    }
   ],
   "source": [
    "import pandas as pd\n",
    "import matplotlib.pyplot as plt\n",
    "import matplotlib.patches as mpatches\n",
    "import plotly.express as px\n",
    "from plotly import graph_objects as go\n",
    "import seaborn as sns\n",
    "sns.set_theme(style=\"whitegrid\", palette=\"pastel6\")\n",
    "sns.despine() "
   ]
  },
  {
   "cell_type": "code",
   "execution_count": 2,
   "id": "ef0635f4-afca-4d28-b661-80d9c99d8db7",
   "metadata": {},
   "outputs": [],
   "source": [
    "path = 'C://Users//apolansky//Desktop//YP//Masterskaya//'\n",
    "df_da = pd.read_excel(path + 'vacancies_da.xlsx')\n",
    "df_ds = pd.read_excel(path + 'vacancies_ds.xlsx')\n",
    "#df_da = pd.read_excel('C:\\Users\\apolansky\\Desktop\\YP\\Masterskaya\\vacancies_da.xlsx')"
   ]
  },
  {
   "cell_type": "code",
   "execution_count": 3,
   "id": "9669f868-f9d6-45fb-ae93-c97694a4f664",
   "metadata": {},
   "outputs": [
    {
     "data": {
      "text/html": [
       "<div>\n",
       "<style scoped>\n",
       "    .dataframe tbody tr th:only-of-type {\n",
       "        vertical-align: middle;\n",
       "    }\n",
       "\n",
       "    .dataframe tbody tr th {\n",
       "        vertical-align: top;\n",
       "    }\n",
       "\n",
       "    .dataframe thead th {\n",
       "        text-align: right;\n",
       "    }\n",
       "</style>\n",
       "<table border=\"1\" class=\"dataframe\">\n",
       "  <thead>\n",
       "    <tr style=\"text-align: right;\">\n",
       "      <th></th>\n",
       "      <th>id</th>\n",
       "      <th>name</th>\n",
       "      <th>published_at</th>\n",
       "      <th>alternate_url</th>\n",
       "      <th>type</th>\n",
       "      <th>employer</th>\n",
       "      <th>department</th>\n",
       "      <th>area</th>\n",
       "      <th>experience</th>\n",
       "      <th>key_skills</th>\n",
       "      <th>schedule</th>\n",
       "      <th>employment</th>\n",
       "      <th>description</th>\n",
       "      <th>description_lemmatized</th>\n",
       "      <th>salary_from</th>\n",
       "      <th>salary_to</th>\n",
       "      <th>salary_bin</th>\n",
       "      <th>key_skills_from_key_skills_field</th>\n",
       "      <th>hard_skills_from_description</th>\n",
       "      <th>soft_skills_from_description</th>\n",
       "    </tr>\n",
       "  </thead>\n",
       "  <tbody>\n",
       "    <tr>\n",
       "      <th>0</th>\n",
       "      <td>100039284</td>\n",
       "      <td>Junior аналитик данных (исследователь)</td>\n",
       "      <td>2024-05-24 09:37:04</td>\n",
       "      <td>https://hh.ru/vacancy/100039284</td>\n",
       "      <td>Открытая</td>\n",
       "      <td>DNS Головной офис</td>\n",
       "      <td>NaN</td>\n",
       "      <td>Владивосток</td>\n",
       "      <td>Junior (no experince)</td>\n",
       "      <td>['Power BI', 'СУБД', 'Python', 'SQL']</td>\n",
       "      <td>Полный день</td>\n",
       "      <td>Полная занятость</td>\n",
       "      <td>наше направление занимается повышением эффекти...</td>\n",
       "      <td>наш направление заниматься повышение эффективн...</td>\n",
       "      <td>60000.0</td>\n",
       "      <td>NaN</td>\n",
       "      <td>ЗП не указана</td>\n",
       "      <td>SQL, Power BI, Python, СУБД</td>\n",
       "      <td>NaN</td>\n",
       "      <td>NaN</td>\n",
       "    </tr>\n",
       "    <tr>\n",
       "      <th>1</th>\n",
       "      <td>100039480</td>\n",
       "      <td>Аналитик данных</td>\n",
       "      <td>2024-05-24 09:39:00</td>\n",
       "      <td>https://hh.ru/vacancy/100039480</td>\n",
       "      <td>Открытая</td>\n",
       "      <td>Комус</td>\n",
       "      <td>NaN</td>\n",
       "      <td>Москва</td>\n",
       "      <td>Junior (no experince)</td>\n",
       "      <td>['MS SQL', 'Работа с базами данных', 'MS Excel']</td>\n",
       "      <td>Полный день</td>\n",
       "      <td>Полная занятость</td>\n",
       "      <td>сегодня комус один из крупнейших поставщиков о...</td>\n",
       "      <td>сегодня комус крупный поставщик офисный товар ...</td>\n",
       "      <td>NaN</td>\n",
       "      <td>NaN</td>\n",
       "      <td>ЗП не указана</td>\n",
       "      <td>Работа с базами данных, MS SQL, MS Excel</td>\n",
       "      <td>NaN</td>\n",
       "      <td>NaN</td>\n",
       "    </tr>\n",
       "    <tr>\n",
       "      <th>2</th>\n",
       "      <td>100042705</td>\n",
       "      <td>Аналитик данных (исследователь)</td>\n",
       "      <td>2024-05-24 10:01:25</td>\n",
       "      <td>https://hh.ru/vacancy/100042705</td>\n",
       "      <td>Открытая</td>\n",
       "      <td>DNS Головной офис</td>\n",
       "      <td>NaN</td>\n",
       "      <td>Владивосток</td>\n",
       "      <td>Junior+ (1-3 years)</td>\n",
       "      <td>['SQL', 'Power BI', 'СУБД', 'Python', 'Clickho...</td>\n",
       "      <td>Полный день</td>\n",
       "      <td>Полная занятость</td>\n",
       "      <td>наше направление занимается повышением эффекти...</td>\n",
       "      <td>наш направление заниматься повышение эффективн...</td>\n",
       "      <td>90000.0</td>\n",
       "      <td>NaN</td>\n",
       "      <td>ЗП не указана</td>\n",
       "      <td>SQL, Power BI, Python, СУБД, BPMN, Clickhouse</td>\n",
       "      <td>NaN</td>\n",
       "      <td>NaN</td>\n",
       "    </tr>\n",
       "    <tr>\n",
       "      <th>3</th>\n",
       "      <td>100046788</td>\n",
       "      <td>Ведущий аналитик данных</td>\n",
       "      <td>2024-05-24 10:28:18</td>\n",
       "      <td>https://hh.ru/vacancy/100046788</td>\n",
       "      <td>Открытая</td>\n",
       "      <td>Х5 Group</td>\n",
       "      <td>X5 GROUP, Центральный офис</td>\n",
       "      <td>Москва</td>\n",
       "      <td>Junior+ (1-3 years)</td>\n",
       "      <td>['Анализ данных', 'Коммуникация', 'SQL', 'MS O...</td>\n",
       "      <td>Полный день</td>\n",
       "      <td>Полная занятость</td>\n",
       "      <td>задачи:  разработка бизнес-моделей для группов...</td>\n",
       "      <td>задача разработка бизнес модель групповой прог...</td>\n",
       "      <td>NaN</td>\n",
       "      <td>NaN</td>\n",
       "      <td>ЗП не указана</td>\n",
       "      <td>MS Office, SQL, Python, Hadoop, Нive, Аналитич...</td>\n",
       "      <td>Pandas, Юнит-экономика</td>\n",
       "      <td>Коммуникация</td>\n",
       "    </tr>\n",
       "    <tr>\n",
       "      <th>4</th>\n",
       "      <td>100056244</td>\n",
       "      <td>Аналитик данных</td>\n",
       "      <td>2024-05-24 11:27:40</td>\n",
       "      <td>https://hh.ru/vacancy/100056244</td>\n",
       "      <td>Открытая</td>\n",
       "      <td>ЛУКОЙЛ</td>\n",
       "      <td>NaN</td>\n",
       "      <td>Москва</td>\n",
       "      <td>Middle (3-6 years)</td>\n",
       "      <td>['Документация']</td>\n",
       "      <td>Полный день</td>\n",
       "      <td>Полная занятость</td>\n",
       "      <td>обязанности:  участие в проектировании, разраб...</td>\n",
       "      <td>обязанность участие проектирование разработка ...</td>\n",
       "      <td>NaN</td>\n",
       "      <td>NaN</td>\n",
       "      <td>ЗП не указана</td>\n",
       "      <td>NaN</td>\n",
       "      <td>NaN</td>\n",
       "      <td>Документация</td>\n",
       "    </tr>\n",
       "  </tbody>\n",
       "</table>\n",
       "</div>"
      ],
      "text/plain": [
       "          id                                    name        published_at  \\\n",
       "0  100039284  Junior аналитик данных (исследователь) 2024-05-24 09:37:04   \n",
       "1  100039480                         Аналитик данных 2024-05-24 09:39:00   \n",
       "2  100042705         Аналитик данных (исследователь) 2024-05-24 10:01:25   \n",
       "3  100046788                 Ведущий аналитик данных 2024-05-24 10:28:18   \n",
       "4  100056244                         Аналитик данных 2024-05-24 11:27:40   \n",
       "\n",
       "                     alternate_url      type           employer  \\\n",
       "0  https://hh.ru/vacancy/100039284  Открытая  DNS Головной офис   \n",
       "1  https://hh.ru/vacancy/100039480  Открытая              Комус   \n",
       "2  https://hh.ru/vacancy/100042705  Открытая  DNS Головной офис   \n",
       "3  https://hh.ru/vacancy/100046788  Открытая           Х5 Group   \n",
       "4  https://hh.ru/vacancy/100056244  Открытая             ЛУКОЙЛ   \n",
       "\n",
       "                   department         area             experience  \\\n",
       "0                         NaN  Владивосток  Junior (no experince)   \n",
       "1                         NaN       Москва  Junior (no experince)   \n",
       "2                         NaN  Владивосток    Junior+ (1-3 years)   \n",
       "3  X5 GROUP, Центральный офис       Москва    Junior+ (1-3 years)   \n",
       "4                         NaN       Москва     Middle (3-6 years)   \n",
       "\n",
       "                                          key_skills     schedule  \\\n",
       "0              ['Power BI', 'СУБД', 'Python', 'SQL']  Полный день   \n",
       "1   ['MS SQL', 'Работа с базами данных', 'MS Excel']  Полный день   \n",
       "2  ['SQL', 'Power BI', 'СУБД', 'Python', 'Clickho...  Полный день   \n",
       "3  ['Анализ данных', 'Коммуникация', 'SQL', 'MS O...  Полный день   \n",
       "4                                   ['Документация']  Полный день   \n",
       "\n",
       "         employment                                        description  \\\n",
       "0  Полная занятость  наше направление занимается повышением эффекти...   \n",
       "1  Полная занятость  сегодня комус один из крупнейших поставщиков о...   \n",
       "2  Полная занятость  наше направление занимается повышением эффекти...   \n",
       "3  Полная занятость  задачи:  разработка бизнес-моделей для группов...   \n",
       "4  Полная занятость  обязанности:  участие в проектировании, разраб...   \n",
       "\n",
       "                              description_lemmatized  salary_from  salary_to  \\\n",
       "0  наш направление заниматься повышение эффективн...      60000.0        NaN   \n",
       "1  сегодня комус крупный поставщик офисный товар ...          NaN        NaN   \n",
       "2  наш направление заниматься повышение эффективн...      90000.0        NaN   \n",
       "3  задача разработка бизнес модель групповой прог...          NaN        NaN   \n",
       "4  обязанность участие проектирование разработка ...          NaN        NaN   \n",
       "\n",
       "      salary_bin                   key_skills_from_key_skills_field  \\\n",
       "0  ЗП не указана                        SQL, Power BI, Python, СУБД   \n",
       "1  ЗП не указана           Работа с базами данных, MS SQL, MS Excel   \n",
       "2  ЗП не указана      SQL, Power BI, Python, СУБД, BPMN, Clickhouse   \n",
       "3  ЗП не указана  MS Office, SQL, Python, Hadoop, Нive, Аналитич...   \n",
       "4  ЗП не указана                                                NaN   \n",
       "\n",
       "  hard_skills_from_description soft_skills_from_description  \n",
       "0                          NaN                          NaN  \n",
       "1                          NaN                          NaN  \n",
       "2                          NaN                          NaN  \n",
       "3       Pandas, Юнит-экономика                 Коммуникация  \n",
       "4                          NaN                 Документация  "
      ]
     },
     "execution_count": 3,
     "metadata": {},
     "output_type": "execute_result"
    }
   ],
   "source": [
    "df_da.head()"
   ]
  },
  {
   "cell_type": "code",
   "execution_count": 4,
   "id": "33743d1b-8b3d-4b14-a428-e5ebac2679d6",
   "metadata": {
    "scrolled": true
   },
   "outputs": [
    {
     "data": {
      "text/html": [
       "<div>\n",
       "<style scoped>\n",
       "    .dataframe tbody tr th:only-of-type {\n",
       "        vertical-align: middle;\n",
       "    }\n",
       "\n",
       "    .dataframe tbody tr th {\n",
       "        vertical-align: top;\n",
       "    }\n",
       "\n",
       "    .dataframe thead th {\n",
       "        text-align: right;\n",
       "    }\n",
       "</style>\n",
       "<table border=\"1\" class=\"dataframe\">\n",
       "  <thead>\n",
       "    <tr style=\"text-align: right;\">\n",
       "      <th></th>\n",
       "      <th>id</th>\n",
       "      <th>name</th>\n",
       "      <th>published_at</th>\n",
       "      <th>alternate_url</th>\n",
       "      <th>type</th>\n",
       "      <th>employer</th>\n",
       "      <th>department</th>\n",
       "      <th>area</th>\n",
       "      <th>experience</th>\n",
       "      <th>key_skills</th>\n",
       "      <th>schedule</th>\n",
       "      <th>employment</th>\n",
       "      <th>description</th>\n",
       "      <th>description_lemmatized</th>\n",
       "      <th>salary_from</th>\n",
       "      <th>salary_to</th>\n",
       "      <th>salary_bin</th>\n",
       "      <th>key_skills_from_key_skills_field</th>\n",
       "      <th>hard_skills_from_description</th>\n",
       "      <th>soft_skills_from_description</th>\n",
       "    </tr>\n",
       "  </thead>\n",
       "  <tbody>\n",
       "    <tr>\n",
       "      <th>0</th>\n",
       "      <td>100049339</td>\n",
       "      <td>Стажер Data Science (Новосибирск)</td>\n",
       "      <td>2024-05-24 10:44:01</td>\n",
       "      <td>https://hh.ru/vacancy/100049339</td>\n",
       "      <td>Открытая</td>\n",
       "      <td>СБЕР</td>\n",
       "      <td>Сбер для экспертов</td>\n",
       "      <td>Новосибирск</td>\n",
       "      <td>Junior (no experince)</td>\n",
       "      <td>[]</td>\n",
       "      <td>Полный день</td>\n",
       "      <td>Стажировка</td>\n",
       "      <td>sberseasons - оплачиваемая программа стажирово...</td>\n",
       "      <td>sberseasons оплачивать программа стажировка ра...</td>\n",
       "      <td>NaN</td>\n",
       "      <td>NaN</td>\n",
       "      <td>ЗП не указана</td>\n",
       "      <td>NaN</td>\n",
       "      <td>NaN</td>\n",
       "      <td>NaN</td>\n",
       "    </tr>\n",
       "    <tr>\n",
       "      <th>1</th>\n",
       "      <td>100051447</td>\n",
       "      <td>Data Scientist</td>\n",
       "      <td>2024-05-24 10:58:18</td>\n",
       "      <td>https://hh.ru/vacancy/100051447</td>\n",
       "      <td>Открытая</td>\n",
       "      <td>Бюро кредитных историй Скоринг Бюро</td>\n",
       "      <td>NaN</td>\n",
       "      <td>Москва</td>\n",
       "      <td>Junior+ (1-3 years)</td>\n",
       "      <td>['Python', 'Hadoop', 'Machine Learning', 'Рабо...</td>\n",
       "      <td>Удаленная работа</td>\n",
       "      <td>Полная занятость</td>\n",
       "      <td>бюро кредитных историй «скоринг бюро» является...</td>\n",
       "      <td>бюро кредитный история скоринг бюро являться к...</td>\n",
       "      <td>NaN</td>\n",
       "      <td>NaN</td>\n",
       "      <td>ЗП не указана</td>\n",
       "      <td>SQL, MS SQL, Big Data, Python, Spark, Hadoop, ...</td>\n",
       "      <td>Pandas</td>\n",
       "      <td>Документация, Аналитическое мышление</td>\n",
       "    </tr>\n",
       "    <tr>\n",
       "      <th>2</th>\n",
       "      <td>100070495</td>\n",
       "      <td>ML Engineer / Data Scientist</td>\n",
       "      <td>2024-05-24 13:15:26</td>\n",
       "      <td>https://hh.ru/vacancy/100070495</td>\n",
       "      <td>Открытая</td>\n",
       "      <td>ГК ФСК</td>\n",
       "      <td>NaN</td>\n",
       "      <td>Москва</td>\n",
       "      <td>Junior+ (1-3 years)</td>\n",
       "      <td>['Python', 'PyTorch', 'Machine Learning', 'Doc...</td>\n",
       "      <td>Полный день</td>\n",
       "      <td>Полная занятость</td>\n",
       "      <td>о компании и команде: группа компаний фск – мн...</td>\n",
       "      <td>компания команда группа компания фск многопроф...</td>\n",
       "      <td>NaN</td>\n",
       "      <td>NaN</td>\n",
       "      <td>ЗП не указана</td>\n",
       "      <td>Python, PyTorch, ML, Docker, NLP, Pandas, SQL,...</td>\n",
       "      <td>NaN</td>\n",
       "      <td>NaN</td>\n",
       "    </tr>\n",
       "    <tr>\n",
       "      <th>3</th>\n",
       "      <td>100076648</td>\n",
       "      <td>Team Lead Data Science</td>\n",
       "      <td>2024-05-24 14:07:00</td>\n",
       "      <td>https://hh.ru/vacancy/100076648</td>\n",
       "      <td>Открытая</td>\n",
       "      <td>СБЕР</td>\n",
       "      <td>Сбер для экспертов</td>\n",
       "      <td>Москва</td>\n",
       "      <td>Middle (3-6 years)</td>\n",
       "      <td>[]</td>\n",
       "      <td>Полный день</td>\n",
       "      <td>Полная занятость</td>\n",
       "      <td>наша команда разрабатывает модели машинного об...</td>\n",
       "      <td>наш команда разрабатывать модель машинный обуч...</td>\n",
       "      <td>NaN</td>\n",
       "      <td>NaN</td>\n",
       "      <td>ЗП не указана</td>\n",
       "      <td>NaN</td>\n",
       "      <td>NaN</td>\n",
       "      <td>NaN</td>\n",
       "    </tr>\n",
       "    <tr>\n",
       "      <th>4</th>\n",
       "      <td>100077910</td>\n",
       "      <td>Data Analyst / Data Scientist</td>\n",
       "      <td>2024-06-08 14:17:47</td>\n",
       "      <td>https://hh.ru/vacancy/100077910</td>\n",
       "      <td>Открытая</td>\n",
       "      <td>Итсен</td>\n",
       "      <td>NaN</td>\n",
       "      <td>Москва</td>\n",
       "      <td>Middle (3-6 years)</td>\n",
       "      <td>['DataLens', 'MS SQL', 'SQL', 'Spark', 'Аналит...</td>\n",
       "      <td>Полный день</td>\n",
       "      <td>Полная занятость</td>\n",
       "      <td>мы ищем талантливого middle data analyst / dat...</td>\n",
       "      <td>искать талантливый middle data analyst data sc...</td>\n",
       "      <td>350000.0</td>\n",
       "      <td>NaN</td>\n",
       "      <td>ЗП не указана</td>\n",
       "      <td>Python, SQL, Обучение и развитие, Data Mining,...</td>\n",
       "      <td>NaN</td>\n",
       "      <td>Аналитическое мышление</td>\n",
       "    </tr>\n",
       "  </tbody>\n",
       "</table>\n",
       "</div>"
      ],
      "text/plain": [
       "          id                               name        published_at  \\\n",
       "0  100049339  Стажер Data Science (Новосибирск) 2024-05-24 10:44:01   \n",
       "1  100051447                     Data Scientist 2024-05-24 10:58:18   \n",
       "2  100070495       ML Engineer / Data Scientist 2024-05-24 13:15:26   \n",
       "3  100076648             Team Lead Data Science 2024-05-24 14:07:00   \n",
       "4  100077910      Data Analyst / Data Scientist 2024-06-08 14:17:47   \n",
       "\n",
       "                     alternate_url      type  \\\n",
       "0  https://hh.ru/vacancy/100049339  Открытая   \n",
       "1  https://hh.ru/vacancy/100051447  Открытая   \n",
       "2  https://hh.ru/vacancy/100070495  Открытая   \n",
       "3  https://hh.ru/vacancy/100076648  Открытая   \n",
       "4  https://hh.ru/vacancy/100077910  Открытая   \n",
       "\n",
       "                              employer          department         area  \\\n",
       "0                                 СБЕР  Сбер для экспертов  Новосибирск   \n",
       "1  Бюро кредитных историй Скоринг Бюро                 NaN       Москва   \n",
       "2                               ГК ФСК                 NaN       Москва   \n",
       "3                                 СБЕР  Сбер для экспертов       Москва   \n",
       "4                                Итсен                 NaN       Москва   \n",
       "\n",
       "              experience                                         key_skills  \\\n",
       "0  Junior (no experince)                                                 []   \n",
       "1    Junior+ (1-3 years)  ['Python', 'Hadoop', 'Machine Learning', 'Рабо...   \n",
       "2    Junior+ (1-3 years)  ['Python', 'PyTorch', 'Machine Learning', 'Doc...   \n",
       "3     Middle (3-6 years)                                                 []   \n",
       "4     Middle (3-6 years)  ['DataLens', 'MS SQL', 'SQL', 'Spark', 'Аналит...   \n",
       "\n",
       "           schedule        employment  \\\n",
       "0       Полный день        Стажировка   \n",
       "1  Удаленная работа  Полная занятость   \n",
       "2       Полный день  Полная занятость   \n",
       "3       Полный день  Полная занятость   \n",
       "4       Полный день  Полная занятость   \n",
       "\n",
       "                                         description  \\\n",
       "0  sberseasons - оплачиваемая программа стажирово...   \n",
       "1  бюро кредитных историй «скоринг бюро» является...   \n",
       "2  о компании и команде: группа компаний фск – мн...   \n",
       "3  наша команда разрабатывает модели машинного об...   \n",
       "4  мы ищем талантливого middle data analyst / dat...   \n",
       "\n",
       "                              description_lemmatized  salary_from  salary_to  \\\n",
       "0  sberseasons оплачивать программа стажировка ра...          NaN        NaN   \n",
       "1  бюро кредитный история скоринг бюро являться к...          NaN        NaN   \n",
       "2  компания команда группа компания фск многопроф...          NaN        NaN   \n",
       "3  наш команда разрабатывать модель машинный обуч...          NaN        NaN   \n",
       "4  искать талантливый middle data analyst data sc...     350000.0        NaN   \n",
       "\n",
       "      salary_bin                   key_skills_from_key_skills_field  \\\n",
       "0  ЗП не указана                                                NaN   \n",
       "1  ЗП не указана  SQL, MS SQL, Big Data, Python, Spark, Hadoop, ...   \n",
       "2  ЗП не указана  Python, PyTorch, ML, Docker, NLP, Pandas, SQL,...   \n",
       "3  ЗП не указана                                                NaN   \n",
       "4  ЗП не указана  Python, SQL, Обучение и развитие, Data Mining,...   \n",
       "\n",
       "  hard_skills_from_description          soft_skills_from_description  \n",
       "0                          NaN                                   NaN  \n",
       "1                       Pandas  Документация, Аналитическое мышление  \n",
       "2                          NaN                                   NaN  \n",
       "3                          NaN                                   NaN  \n",
       "4                          NaN                Аналитическое мышление  "
      ]
     },
     "execution_count": 4,
     "metadata": {},
     "output_type": "execute_result"
    }
   ],
   "source": [
    "df_ds.head()"
   ]
  },
  {
   "cell_type": "markdown",
   "id": "b9178553-17c5-48c4-bd3c-d75c538dd998",
   "metadata": {},
   "source": [
    "**Описание данных**\n",
    "В нашем распоряжении два датасета об активных вакансиях представленных на сайте HH.ru 24.05.2024 за последний месяц. Данные получены из API HH.ru.\n",
    "Столбцы в обеих таблицах идентичны:\n",
    "- id - Уникальный идентификатор вакансии.\n",
    "- name - Название вакансии.\n",
    "- published_at - Дата публикации.\n",
    "- alternate_url - Ссылка на вакансию.\n",
    "- type - Статус вакансии на момент получения данных от api и передачи их в базу.\n",
    "- employer - Работодатель.\n",
    "- department - Работодатель, отдел.\n",
    "- area - Регион места работы.\n",
    "- experience - Требуемый опыт работы.\n",
    "- key_skills - Ключевые навыки, в том числе найденные при анализе полного текста вакансии. Поле генерируется после получения информации от api.\n",
    "- schedule - График работы.\n",
    "- employment - Тип занятости.\n",
    "- description - Описание вакансии.\n",
    "- description_lemmatized - Лемматизированное описание вакансии.\n",
    "- salary_from - Нижняя граница предлагаемой заработной платы.\n",
    "- salary_to - Верхняя граница предлагаемой заработной платы.\n",
    "- salary_bin - Категория зарплаты.\n",
    "- key_skills_from_key_skills_field - Ключевые навыки из поля вакансии key_skills.\n",
    "- hard_skills_from_description - “Твердые” навыки, найденные при обработке полей с навыками. Поле генерируется после получения информации от api. soft_skills_from_description - “Мягкие” навыки, найденные при обработке полей с навыками. Поле генерируется после получения информации от api."
   ]
  },
  {
   "cell_type": "markdown",
   "id": "5a9066c4-607c-4691-90c5-37bbf692dfa1",
   "metadata": {},
   "source": [
    "Выведем основную информацию о датафрейме с помощью метода info()"
   ]
  },
  {
   "cell_type": "code",
   "execution_count": 5,
   "id": "989e3fa6-11a1-46a6-a1a8-74bd818d22f9",
   "metadata": {},
   "outputs": [
    {
     "name": "stdout",
     "output_type": "stream",
     "text": [
      "<class 'pandas.core.frame.DataFrame'>\n",
      "RangeIndex: 1801 entries, 0 to 1800\n",
      "Data columns (total 20 columns):\n",
      " #   Column                            Non-Null Count  Dtype         \n",
      "---  ------                            --------------  -----         \n",
      " 0   id                                1801 non-null   int64         \n",
      " 1   name                              1801 non-null   object        \n",
      " 2   published_at                      1801 non-null   datetime64[ns]\n",
      " 3   alternate_url                     1801 non-null   object        \n",
      " 4   type                              1801 non-null   object        \n",
      " 5   employer                          1801 non-null   object        \n",
      " 6   department                        521 non-null    object        \n",
      " 7   area                              1801 non-null   object        \n",
      " 8   experience                        1801 non-null   object        \n",
      " 9   key_skills                        1801 non-null   object        \n",
      " 10  schedule                          1801 non-null   object        \n",
      " 11  employment                        1801 non-null   object        \n",
      " 12  description                       1801 non-null   object        \n",
      " 13  description_lemmatized            1801 non-null   object        \n",
      " 14  salary_from                       348 non-null    float64       \n",
      " 15  salary_to                         228 non-null    float64       \n",
      " 16  salary_bin                        1801 non-null   object        \n",
      " 17  key_skills_from_key_skills_field  1093 non-null   object        \n",
      " 18  hard_skills_from_description      418 non-null    object        \n",
      " 19  soft_skills_from_description      588 non-null    object        \n",
      "dtypes: datetime64[ns](1), float64(2), int64(1), object(16)\n",
      "memory usage: 281.5+ KB\n"
     ]
    }
   ],
   "source": [
    "df_da.info()"
   ]
  },
  {
   "cell_type": "code",
   "execution_count": 6,
   "id": "a1a3aa8f-9ede-4d7f-85a1-5bb10a9d6296",
   "metadata": {},
   "outputs": [
    {
     "name": "stdout",
     "output_type": "stream",
     "text": [
      "<class 'pandas.core.frame.DataFrame'>\n",
      "RangeIndex: 974 entries, 0 to 973\n",
      "Data columns (total 20 columns):\n",
      " #   Column                            Non-Null Count  Dtype         \n",
      "---  ------                            --------------  -----         \n",
      " 0   id                                974 non-null    int64         \n",
      " 1   name                              974 non-null    object        \n",
      " 2   published_at                      974 non-null    datetime64[ns]\n",
      " 3   alternate_url                     974 non-null    object        \n",
      " 4   type                              974 non-null    object        \n",
      " 5   employer                          974 non-null    object        \n",
      " 6   department                        413 non-null    object        \n",
      " 7   area                              974 non-null    object        \n",
      " 8   experience                        974 non-null    object        \n",
      " 9   key_skills                        974 non-null    object        \n",
      " 10  schedule                          974 non-null    object        \n",
      " 11  employment                        974 non-null    object        \n",
      " 12  description                       974 non-null    object        \n",
      " 13  description_lemmatized            974 non-null    object        \n",
      " 14  salary_from                       88 non-null     float64       \n",
      " 15  salary_to                         82 non-null     float64       \n",
      " 16  salary_bin                        974 non-null    object        \n",
      " 17  key_skills_from_key_skills_field  521 non-null    object        \n",
      " 18  hard_skills_from_description      449 non-null    object        \n",
      " 19  soft_skills_from_description      294 non-null    object        \n",
      "dtypes: datetime64[ns](1), float64(2), int64(1), object(16)\n",
      "memory usage: 152.3+ KB\n"
     ]
    }
   ],
   "source": [
    "df_ds.info()"
   ]
  },
  {
   "cell_type": "markdown",
   "id": "b09ddd0f-ddb5-4796-818c-75c1e0384265",
   "metadata": {},
   "source": [
    "Зафиксируем начальное количество данных в переменную с помощью метода shape:"
   ]
  },
  {
   "cell_type": "code",
   "execution_count": 7,
   "id": "1ecdee57-e7f0-4357-aed3-504669e2d070",
   "metadata": {},
   "outputs": [
    {
     "name": "stdout",
     "output_type": "stream",
     "text": [
      "Кол-во строк : 1801\n",
      "Кол-во столбцов : 20\n"
     ]
    }
   ],
   "source": [
    "shape = df_da.shape\n",
    "print('Кол-во строк :', shape[0])\n",
    "print('Кол-во столбцов :', shape[1])"
   ]
  },
  {
   "cell_type": "code",
   "execution_count": 8,
   "id": "7b4a47dd-26a4-4bb4-972e-8e7c3f677816",
   "metadata": {},
   "outputs": [
    {
     "name": "stdout",
     "output_type": "stream",
     "text": [
      "Кол-во строк : 974\n",
      "Кол-во столбцов : 20\n"
     ]
    }
   ],
   "source": [
    "shape = df_ds.shape\n",
    "print('Кол-во строк :', shape[0])\n",
    "print('Кол-во столбцов :', shape[1])"
   ]
  },
  {
   "cell_type": "markdown",
   "id": "5957fbbb-dc93-4eca-b56e-6abb6551035d",
   "metadata": {},
   "source": [
    "Мы получили информацию о датафрейме - кол-во строк, тип данных. Кол-во столбцов, название, тип данных в обоих датафреймах идентичны, поэтому можно объединить датафреймы, проставив для каждой таблицы дополнительный признак принадлежности к той или иной таблице.\n",
    "\n",
    "Как видим, есть пропущенные значения в столбцах. Для анализа наиболее критичными будут пропуски в столбцах с данными о заработной плате и столбце Можно key_skills. Сейчас данные по зарплате имеют около 20% вакансий."
   ]
  },
  {
   "cell_type": "code",
   "execution_count": 9,
   "id": "a1f6e506-557d-47d0-aa04-032a6772dce0",
   "metadata": {},
   "outputs": [],
   "source": [
    "# Создаем переменные\n",
    "df_da['name_type'] = 'da'\n",
    "df_ds['name_type'] = 'ds'\n",
    "\n",
    "# объеденяем таблицы\n",
    "vacancies = pd.concat((df_da, df_ds))\n",
    "total_shape = vacancies.shape[0]"
   ]
  },
  {
   "cell_type": "markdown",
   "id": "e633787f-1871-4f5a-a39a-baaf58a30c0d",
   "metadata": {},
   "source": [
    "Проверим кол-во строк и столбцов в объединенном датафрейме"
   ]
  },
  {
   "cell_type": "code",
   "execution_count": 10,
   "id": "367da8cb-1936-4753-8aed-b9330ecdea93",
   "metadata": {},
   "outputs": [
    {
     "name": "stdout",
     "output_type": "stream",
     "text": [
      "Кол-во строк : 2775\n",
      "Кол-во столбцов : 21\n"
     ]
    }
   ],
   "source": [
    "shape = vacancies.shape\n",
    "print('Кол-во строк :', shape[0])\n",
    "print('Кол-во столбцов :', shape[1])"
   ]
  },
  {
   "cell_type": "markdown",
   "id": "3c7c73a3-34cf-4ab6-9a3a-216905d234af",
   "metadata": {},
   "source": [
    "Объединение прошло корректно."
   ]
  },
  {
   "cell_type": "markdown",
   "id": "2cc437de-6104-42ce-b509-b2756ffaf2c7",
   "metadata": {},
   "source": [
    "# Поиск дубликатов"
   ]
  },
  {
   "cell_type": "markdown",
   "id": "47721604-c619-4d12-8350-5e82c467235c",
   "metadata": {},
   "source": [
    "Теперь проверим датафрейм на наличие явных дубликатов."
   ]
  },
  {
   "cell_type": "code",
   "execution_count": 11,
   "id": "8b76f013-e358-4182-99c4-54feebe40a7e",
   "metadata": {},
   "outputs": [
    {
     "data": {
      "text/plain": [
       "0"
      ]
     },
     "execution_count": 11,
     "metadata": {},
     "output_type": "execute_result"
    }
   ],
   "source": [
    "vacancies.duplicated().sum()"
   ]
  },
  {
   "cell_type": "markdown",
   "id": "e8cb8483-bcc7-4f1f-a42d-8ad67287a82a",
   "metadata": {},
   "source": [
    "Посмотрим какие вакансии встречаются в датасете"
   ]
  },
  {
   "cell_type": "code",
   "execution_count": 12,
   "id": "b5ceeba9-860f-4667-a2fc-60b3ab11e448",
   "metadata": {},
   "outputs": [],
   "source": [
    "vacancies['name']=vacancies['name'].str.lower()\n"
   ]
  },
  {
   "cell_type": "markdown",
   "id": "3d743eb6-3298-42d3-b117-dca7adf4a5e2",
   "metadata": {},
   "source": []
  },
  {
   "cell_type": "markdown",
   "id": "b6fe72d5-fbef-439a-9e4a-e5fdff10b95b",
   "metadata": {},
   "source": [
    "Посмотрим наличие дубликатов по id"
   ]
  },
  {
   "cell_type": "code",
   "execution_count": 13,
   "id": "0ac27a37-f6d6-4fae-9db4-f4cf5aa1cea7",
   "metadata": {},
   "outputs": [
    {
     "data": {
      "text/plain": [
       "54"
      ]
     },
     "execution_count": 13,
     "metadata": {},
     "output_type": "execute_result"
    }
   ],
   "source": [
    "dupl_id = vacancies.duplicated(subset='id').sum()\n",
    "dupl_id"
   ]
  },
  {
   "cell_type": "markdown",
   "id": "8878d9e8-6fa8-428b-86e7-29fd384c4547",
   "metadata": {},
   "source": [
    "У нас 54 дубликата по id, посмотрим их"
   ]
  },
  {
   "cell_type": "code",
   "execution_count": 14,
   "id": "dd40cd4f-18ca-40a7-a323-fa6cd4681a62",
   "metadata": {},
   "outputs": [
    {
     "data": {
      "text/plain": [
       "0"
      ]
     },
     "execution_count": 14,
     "metadata": {},
     "output_type": "execute_result"
    }
   ],
   "source": [
    "dupl_id_ds = df_ds.duplicated(subset='id').sum()\n",
    "dupl_id_ds"
   ]
  },
  {
   "cell_type": "code",
   "execution_count": 15,
   "id": "9c92fe36-4318-471e-a930-75999311f27e",
   "metadata": {},
   "outputs": [
    {
     "data": {
      "text/plain": [
       "0"
      ]
     },
     "execution_count": 15,
     "metadata": {},
     "output_type": "execute_result"
    }
   ],
   "source": [
    "dupl_id_da = df_da.duplicated(subset='id').sum()\n",
    "dupl_id_da"
   ]
  },
  {
   "cell_type": "markdown",
   "id": "409746f6-8b6b-40ac-ab7d-a477157bfac3",
   "metadata": {},
   "source": [
    "При этом в датафреймах до объединения не было дубликатов, значит дублирование произошло во время объединения, следовательно одна и та же вакансия была и в датафрейме для DA и DS. Удалим такие вакансии."
   ]
  },
  {
   "cell_type": "code",
   "execution_count": 16,
   "id": "10b1dea7-a47f-4447-a50c-c6bea783df51",
   "metadata": {},
   "outputs": [],
   "source": [
    "#удаляем строки-дубликаты\n",
    "vacancies=vacancies.drop_duplicates(subset='id')"
   ]
  },
  {
   "cell_type": "code",
   "execution_count": 17,
   "id": "0a269e64-5f7a-4174-ba9c-68fafc1fd0de",
   "metadata": {},
   "outputs": [
    {
     "name": "stdout",
     "output_type": "stream",
     "text": [
      "Удалили 1.95% данных\n"
     ]
    }
   ],
   "source": [
    "print(f'Удалили {1 - vacancies.shape[0] / total_shape:.2%} данных')"
   ]
  },
  {
   "cell_type": "markdown",
   "id": "d919b028-0409-4a71-a625-7ab5f1bb98aa",
   "metadata": {},
   "source": [
    "Проверим есть ли у нас неявные дубликаты"
   ]
  },
  {
   "cell_type": "code",
   "execution_count": 18,
   "id": "1f0c560c-a5fb-4ea9-81d8-f1f73259d012",
   "metadata": {},
   "outputs": [],
   "source": [
    "vacancies.loc[:, 'published_date'] = vacancies.published_at.dt.date"
   ]
  },
  {
   "cell_type": "code",
   "execution_count": 19,
   "id": "298c7c37-90cd-4136-8dc1-91315166f483",
   "metadata": {},
   "outputs": [
    {
     "data": {
      "text/html": [
       "<div>\n",
       "<style scoped>\n",
       "    .dataframe tbody tr th:only-of-type {\n",
       "        vertical-align: middle;\n",
       "    }\n",
       "\n",
       "    .dataframe tbody tr th {\n",
       "        vertical-align: top;\n",
       "    }\n",
       "\n",
       "    .dataframe thead th {\n",
       "        text-align: right;\n",
       "    }\n",
       "</style>\n",
       "<table border=\"1\" class=\"dataframe\">\n",
       "  <thead>\n",
       "    <tr style=\"text-align: right;\">\n",
       "      <th></th>\n",
       "      <th>id</th>\n",
       "      <th>name</th>\n",
       "      <th>published_at</th>\n",
       "      <th>alternate_url</th>\n",
       "      <th>type</th>\n",
       "      <th>employer</th>\n",
       "      <th>department</th>\n",
       "      <th>area</th>\n",
       "      <th>experience</th>\n",
       "      <th>key_skills</th>\n",
       "      <th>...</th>\n",
       "      <th>description</th>\n",
       "      <th>description_lemmatized</th>\n",
       "      <th>salary_from</th>\n",
       "      <th>salary_to</th>\n",
       "      <th>salary_bin</th>\n",
       "      <th>key_skills_from_key_skills_field</th>\n",
       "      <th>hard_skills_from_description</th>\n",
       "      <th>soft_skills_from_description</th>\n",
       "      <th>name_type</th>\n",
       "      <th>published_date</th>\n",
       "    </tr>\n",
       "  </thead>\n",
       "  <tbody>\n",
       "    <tr>\n",
       "      <th>1408</th>\n",
       "      <td>98088004</td>\n",
       "      <td>bi-аналитик/ аналитик данных</td>\n",
       "      <td>2024-05-12 17:09:30</td>\n",
       "      <td>https://hh.ru/vacancy/98088004</td>\n",
       "      <td>Открытая</td>\n",
       "      <td>Сэлвим</td>\n",
       "      <td>NaN</td>\n",
       "      <td>Москва</td>\n",
       "      <td>Junior+ (1-3 years)</td>\n",
       "      <td>['Pandas']</td>\n",
       "      <td>...</td>\n",
       "      <td>обязанности:  сбор бизнес-требований от внутре...</td>\n",
       "      <td>обязанность сбор бизнес требование внутренний ...</td>\n",
       "      <td>NaN</td>\n",
       "      <td>NaN</td>\n",
       "      <td>ЗП не указана</td>\n",
       "      <td>NaN</td>\n",
       "      <td>Pandas</td>\n",
       "      <td>NaN</td>\n",
       "      <td>da</td>\n",
       "      <td>2024-05-12</td>\n",
       "    </tr>\n",
       "    <tr>\n",
       "      <th>72</th>\n",
       "      <td>100463980</td>\n",
       "      <td>bi-аналитик/ аналитик данных</td>\n",
       "      <td>2024-06-09 10:00:29</td>\n",
       "      <td>https://hh.ru/vacancy/100463980</td>\n",
       "      <td>Открытая</td>\n",
       "      <td>Сэлвим</td>\n",
       "      <td>NaN</td>\n",
       "      <td>Москва</td>\n",
       "      <td>Junior+ (1-3 years)</td>\n",
       "      <td>['Pandas']</td>\n",
       "      <td>...</td>\n",
       "      <td>обязанности:  сбор бизнес-требований от внутре...</td>\n",
       "      <td>обязанность сбор бизнес требование внутренний ...</td>\n",
       "      <td>NaN</td>\n",
       "      <td>NaN</td>\n",
       "      <td>ЗП не указана</td>\n",
       "      <td>NaN</td>\n",
       "      <td>Pandas</td>\n",
       "      <td>NaN</td>\n",
       "      <td>da</td>\n",
       "      <td>2024-06-09</td>\n",
       "    </tr>\n",
       "    <tr>\n",
       "      <th>501</th>\n",
       "      <td>95520058</td>\n",
       "      <td>cпециалист по работе с данными (data scientist)</td>\n",
       "      <td>2024-04-08 15:55:08</td>\n",
       "      <td>https://hh.ru/vacancy/95520058</td>\n",
       "      <td>Открытая</td>\n",
       "      <td>Открытый код</td>\n",
       "      <td>NaN</td>\n",
       "      <td>Самара</td>\n",
       "      <td>Junior+ (1-3 years)</td>\n",
       "      <td>['Pandas']</td>\n",
       "      <td>...</td>\n",
       "      <td>что нужно делать:  анализ исходных данных, очи...</td>\n",
       "      <td>нужно делать анализ исходный данные очистка ау...</td>\n",
       "      <td>NaN</td>\n",
       "      <td>NaN</td>\n",
       "      <td>ЗП не указана</td>\n",
       "      <td>NaN</td>\n",
       "      <td>Pandas</td>\n",
       "      <td>NaN</td>\n",
       "      <td>ds</td>\n",
       "      <td>2024-04-08</td>\n",
       "    </tr>\n",
       "    <tr>\n",
       "      <th>10</th>\n",
       "      <td>100293732</td>\n",
       "      <td>cпециалист по работе с данными (data scientist)</td>\n",
       "      <td>2024-06-10 11:49:46</td>\n",
       "      <td>https://hh.ru/vacancy/100293732</td>\n",
       "      <td>Открытая</td>\n",
       "      <td>Открытый код</td>\n",
       "      <td>NaN</td>\n",
       "      <td>Самара</td>\n",
       "      <td>Junior+ (1-3 years)</td>\n",
       "      <td>['Pandas']</td>\n",
       "      <td>...</td>\n",
       "      <td>что нужно делать:  анализ исходных данных, очи...</td>\n",
       "      <td>нужно делать анализ исходный данные очистка ау...</td>\n",
       "      <td>NaN</td>\n",
       "      <td>NaN</td>\n",
       "      <td>ЗП не указана</td>\n",
       "      <td>NaN</td>\n",
       "      <td>Pandas</td>\n",
       "      <td>NaN</td>\n",
       "      <td>ds</td>\n",
       "      <td>2024-06-10</td>\n",
       "    </tr>\n",
       "    <tr>\n",
       "      <th>1273</th>\n",
       "      <td>97463573</td>\n",
       "      <td>data analyst</td>\n",
       "      <td>2024-04-19 18:45:38</td>\n",
       "      <td>https://hh.ru/vacancy/97463573</td>\n",
       "      <td>Открытая</td>\n",
       "      <td>Mayflower</td>\n",
       "      <td>NaN</td>\n",
       "      <td>Москва</td>\n",
       "      <td>Middle (3-6 years)</td>\n",
       "      <td>['Английский язык', 'Коммуникация', 'SQL', 'A/...</td>\n",
       "      <td>...</td>\n",
       "      <td>work format: full time, officelocation: cyprus...</td>\n",
       "      <td>work format full time officelocation cyprus li...</td>\n",
       "      <td>NaN</td>\n",
       "      <td>NaN</td>\n",
       "      <td>ЗП не указана</td>\n",
       "      <td>Python, A/B тесты, Big Data, Data Analysis, Ta...</td>\n",
       "      <td>Юнит-экономика</td>\n",
       "      <td>Коммуникация, Критическое мышление</td>\n",
       "      <td>da</td>\n",
       "      <td>2024-04-19</td>\n",
       "    </tr>\n",
       "    <tr>\n",
       "      <th>...</th>\n",
       "      <td>...</td>\n",
       "      <td>...</td>\n",
       "      <td>...</td>\n",
       "      <td>...</td>\n",
       "      <td>...</td>\n",
       "      <td>...</td>\n",
       "      <td>...</td>\n",
       "      <td>...</td>\n",
       "      <td>...</td>\n",
       "      <td>...</td>\n",
       "      <td>...</td>\n",
       "      <td>...</td>\n",
       "      <td>...</td>\n",
       "      <td>...</td>\n",
       "      <td>...</td>\n",
       "      <td>...</td>\n",
       "      <td>...</td>\n",
       "      <td>...</td>\n",
       "      <td>...</td>\n",
       "      <td>...</td>\n",
       "      <td>...</td>\n",
       "    </tr>\n",
       "    <tr>\n",
       "      <th>517</th>\n",
       "      <td>95613788</td>\n",
       "      <td>эконометрист / data scientist</td>\n",
       "      <td>2024-03-27 13:03:38</td>\n",
       "      <td>https://hh.ru/vacancy/95613788</td>\n",
       "      <td>Открытая</td>\n",
       "      <td>Okkam</td>\n",
       "      <td>NaN</td>\n",
       "      <td>Москва</td>\n",
       "      <td>Middle (3-6 years)</td>\n",
       "      <td>['Pandas', 'Коммуникация']</td>\n",
       "      <td>...</td>\n",
       "      <td>привет!мы - коммуникационная группа okkam. наш...</td>\n",
       "      <td>привет коммуникационный группа okkam наш специ...</td>\n",
       "      <td>NaN</td>\n",
       "      <td>NaN</td>\n",
       "      <td>ЗП не указана</td>\n",
       "      <td>NaN</td>\n",
       "      <td>Pandas</td>\n",
       "      <td>Коммуникация</td>\n",
       "      <td>ds</td>\n",
       "      <td>2024-03-27</td>\n",
       "    </tr>\n",
       "    <tr>\n",
       "      <th>805</th>\n",
       "      <td>97991099</td>\n",
       "      <td>эконометрист / data scientist</td>\n",
       "      <td>2024-04-26 13:19:13</td>\n",
       "      <td>https://hh.ru/vacancy/97991099</td>\n",
       "      <td>Открытая</td>\n",
       "      <td>Okkam</td>\n",
       "      <td>NaN</td>\n",
       "      <td>Москва</td>\n",
       "      <td>Middle (3-6 years)</td>\n",
       "      <td>['Pandas', 'Коммуникация']</td>\n",
       "      <td>...</td>\n",
       "      <td>привет!мы - коммуникационная группа okkam. наш...</td>\n",
       "      <td>привет коммуникационный группа okkam наш специ...</td>\n",
       "      <td>NaN</td>\n",
       "      <td>NaN</td>\n",
       "      <td>ЗП не указана</td>\n",
       "      <td>NaN</td>\n",
       "      <td>Pandas</td>\n",
       "      <td>Коммуникация</td>\n",
       "      <td>ds</td>\n",
       "      <td>2024-04-26</td>\n",
       "    </tr>\n",
       "    <tr>\n",
       "      <th>11</th>\n",
       "      <td>100296110</td>\n",
       "      <td>эконометрист / data scientist</td>\n",
       "      <td>2024-05-27 08:31:02</td>\n",
       "      <td>https://hh.ru/vacancy/100296110</td>\n",
       "      <td>Открытая</td>\n",
       "      <td>Okkam</td>\n",
       "      <td>NaN</td>\n",
       "      <td>Москва</td>\n",
       "      <td>Middle (3-6 years)</td>\n",
       "      <td>['Pandas', 'Коммуникация']</td>\n",
       "      <td>...</td>\n",
       "      <td>привет!мы - коммуникационная группа okkam. наш...</td>\n",
       "      <td>привет коммуникационный группа okkam наш специ...</td>\n",
       "      <td>NaN</td>\n",
       "      <td>NaN</td>\n",
       "      <td>ЗП не указана</td>\n",
       "      <td>NaN</td>\n",
       "      <td>Pandas</td>\n",
       "      <td>Коммуникация</td>\n",
       "      <td>ds</td>\n",
       "      <td>2024-05-27</td>\n",
       "    </tr>\n",
       "    <tr>\n",
       "      <th>1302</th>\n",
       "      <td>97652565</td>\n",
       "      <td>эксперт-аналитик данных в группу цифрового аудита</td>\n",
       "      <td>2024-04-22 18:24:19</td>\n",
       "      <td>https://hh.ru/vacancy/97652565</td>\n",
       "      <td>Открытая</td>\n",
       "      <td>Recruitment Boutique S.M.Art</td>\n",
       "      <td>NaN</td>\n",
       "      <td>Москва</td>\n",
       "      <td>Junior+ (1-3 years)</td>\n",
       "      <td>['Аудит', 'Python', 'MS SQL']</td>\n",
       "      <td>...</td>\n",
       "      <td>ищем эксперта со знанием инструментов анализа ...</td>\n",
       "      <td>искать эксперт знание инструмент анализ данные...</td>\n",
       "      <td>NaN</td>\n",
       "      <td>NaN</td>\n",
       "      <td>ЗП не указана</td>\n",
       "      <td>Аудит, MS SQL, Python</td>\n",
       "      <td>NaN</td>\n",
       "      <td>NaN</td>\n",
       "      <td>da</td>\n",
       "      <td>2024-04-22</td>\n",
       "    </tr>\n",
       "    <tr>\n",
       "      <th>1777</th>\n",
       "      <td>99869022</td>\n",
       "      <td>эксперт-аналитик данных в группу цифрового аудита</td>\n",
       "      <td>2024-05-22 18:35:43</td>\n",
       "      <td>https://hh.ru/vacancy/99869022</td>\n",
       "      <td>Открытая</td>\n",
       "      <td>Recruitment Boutique S.M.Art</td>\n",
       "      <td>NaN</td>\n",
       "      <td>Москва</td>\n",
       "      <td>Junior+ (1-3 years)</td>\n",
       "      <td>['Аудит', 'Python', 'MS SQL']</td>\n",
       "      <td>...</td>\n",
       "      <td>ищем эксперта со знанием инструментов анализа ...</td>\n",
       "      <td>искать эксперт знание инструмент анализ данные...</td>\n",
       "      <td>NaN</td>\n",
       "      <td>NaN</td>\n",
       "      <td>ЗП не указана</td>\n",
       "      <td>Аудит, MS SQL, Python</td>\n",
       "      <td>NaN</td>\n",
       "      <td>NaN</td>\n",
       "      <td>da</td>\n",
       "      <td>2024-05-22</td>\n",
       "    </tr>\n",
       "  </tbody>\n",
       "</table>\n",
       "<p>659 rows × 22 columns</p>\n",
       "</div>"
      ],
      "text/plain": [
       "             id                                               name  \\\n",
       "1408   98088004                       bi-аналитик/ аналитик данных   \n",
       "72    100463980                       bi-аналитик/ аналитик данных   \n",
       "501    95520058    cпециалист по работе с данными (data scientist)   \n",
       "10    100293732    cпециалист по работе с данными (data scientist)   \n",
       "1273   97463573                                       data analyst   \n",
       "...         ...                                                ...   \n",
       "517    95613788                      эконометрист / data scientist   \n",
       "805    97991099                      эконометрист / data scientist   \n",
       "11    100296110                      эконометрист / data scientist   \n",
       "1302   97652565  эксперт-аналитик данных в группу цифрового аудита   \n",
       "1777   99869022  эксперт-аналитик данных в группу цифрового аудита   \n",
       "\n",
       "            published_at                    alternate_url      type  \\\n",
       "1408 2024-05-12 17:09:30   https://hh.ru/vacancy/98088004  Открытая   \n",
       "72   2024-06-09 10:00:29  https://hh.ru/vacancy/100463980  Открытая   \n",
       "501  2024-04-08 15:55:08   https://hh.ru/vacancy/95520058  Открытая   \n",
       "10   2024-06-10 11:49:46  https://hh.ru/vacancy/100293732  Открытая   \n",
       "1273 2024-04-19 18:45:38   https://hh.ru/vacancy/97463573  Открытая   \n",
       "...                  ...                              ...       ...   \n",
       "517  2024-03-27 13:03:38   https://hh.ru/vacancy/95613788  Открытая   \n",
       "805  2024-04-26 13:19:13   https://hh.ru/vacancy/97991099  Открытая   \n",
       "11   2024-05-27 08:31:02  https://hh.ru/vacancy/100296110  Открытая   \n",
       "1302 2024-04-22 18:24:19   https://hh.ru/vacancy/97652565  Открытая   \n",
       "1777 2024-05-22 18:35:43   https://hh.ru/vacancy/99869022  Открытая   \n",
       "\n",
       "                          employer department    area           experience  \\\n",
       "1408                        Сэлвим        NaN  Москва  Junior+ (1-3 years)   \n",
       "72                          Сэлвим        NaN  Москва  Junior+ (1-3 years)   \n",
       "501                   Открытый код        NaN  Самара  Junior+ (1-3 years)   \n",
       "10                    Открытый код        NaN  Самара  Junior+ (1-3 years)   \n",
       "1273                     Mayflower        NaN  Москва   Middle (3-6 years)   \n",
       "...                            ...        ...     ...                  ...   \n",
       "517                          Okkam        NaN  Москва   Middle (3-6 years)   \n",
       "805                          Okkam        NaN  Москва   Middle (3-6 years)   \n",
       "11                           Okkam        NaN  Москва   Middle (3-6 years)   \n",
       "1302  Recruitment Boutique S.M.Art        NaN  Москва  Junior+ (1-3 years)   \n",
       "1777  Recruitment Boutique S.M.Art        NaN  Москва  Junior+ (1-3 years)   \n",
       "\n",
       "                                             key_skills  ...  \\\n",
       "1408                                         ['Pandas']  ...   \n",
       "72                                           ['Pandas']  ...   \n",
       "501                                          ['Pandas']  ...   \n",
       "10                                           ['Pandas']  ...   \n",
       "1273  ['Английский язык', 'Коммуникация', 'SQL', 'A/...  ...   \n",
       "...                                                 ...  ...   \n",
       "517                          ['Pandas', 'Коммуникация']  ...   \n",
       "805                          ['Pandas', 'Коммуникация']  ...   \n",
       "11                           ['Pandas', 'Коммуникация']  ...   \n",
       "1302                      ['Аудит', 'Python', 'MS SQL']  ...   \n",
       "1777                      ['Аудит', 'Python', 'MS SQL']  ...   \n",
       "\n",
       "                                            description  \\\n",
       "1408  обязанности:  сбор бизнес-требований от внутре...   \n",
       "72    обязанности:  сбор бизнес-требований от внутре...   \n",
       "501   что нужно делать:  анализ исходных данных, очи...   \n",
       "10    что нужно делать:  анализ исходных данных, очи...   \n",
       "1273  work format: full time, officelocation: cyprus...   \n",
       "...                                                 ...   \n",
       "517   привет!мы - коммуникационная группа okkam. наш...   \n",
       "805   привет!мы - коммуникационная группа okkam. наш...   \n",
       "11    привет!мы - коммуникационная группа okkam. наш...   \n",
       "1302  ищем эксперта со знанием инструментов анализа ...   \n",
       "1777  ищем эксперта со знанием инструментов анализа ...   \n",
       "\n",
       "                                 description_lemmatized salary_from salary_to  \\\n",
       "1408  обязанность сбор бизнес требование внутренний ...         NaN       NaN   \n",
       "72    обязанность сбор бизнес требование внутренний ...         NaN       NaN   \n",
       "501   нужно делать анализ исходный данные очистка ау...         NaN       NaN   \n",
       "10    нужно делать анализ исходный данные очистка ау...         NaN       NaN   \n",
       "1273  work format full time officelocation cyprus li...         NaN       NaN   \n",
       "...                                                 ...         ...       ...   \n",
       "517   привет коммуникационный группа okkam наш специ...         NaN       NaN   \n",
       "805   привет коммуникационный группа okkam наш специ...         NaN       NaN   \n",
       "11    привет коммуникационный группа okkam наш специ...         NaN       NaN   \n",
       "1302  искать эксперт знание инструмент анализ данные...         NaN       NaN   \n",
       "1777  искать эксперт знание инструмент анализ данные...         NaN       NaN   \n",
       "\n",
       "         salary_bin                   key_skills_from_key_skills_field  \\\n",
       "1408  ЗП не указана                                                NaN   \n",
       "72    ЗП не указана                                                NaN   \n",
       "501   ЗП не указана                                                NaN   \n",
       "10    ЗП не указана                                                NaN   \n",
       "1273  ЗП не указана  Python, A/B тесты, Big Data, Data Analysis, Ta...   \n",
       "...             ...                                                ...   \n",
       "517   ЗП не указана                                                NaN   \n",
       "805   ЗП не указана                                                NaN   \n",
       "11    ЗП не указана                                                NaN   \n",
       "1302  ЗП не указана                              Аудит, MS SQL, Python   \n",
       "1777  ЗП не указана                              Аудит, MS SQL, Python   \n",
       "\n",
       "     hard_skills_from_description        soft_skills_from_description  \\\n",
       "1408                       Pandas                                 NaN   \n",
       "72                         Pandas                                 NaN   \n",
       "501                        Pandas                                 NaN   \n",
       "10                         Pandas                                 NaN   \n",
       "1273               Юнит-экономика  Коммуникация, Критическое мышление   \n",
       "...                           ...                                 ...   \n",
       "517                        Pandas                        Коммуникация   \n",
       "805                        Pandas                        Коммуникация   \n",
       "11                         Pandas                        Коммуникация   \n",
       "1302                          NaN                                 NaN   \n",
       "1777                          NaN                                 NaN   \n",
       "\n",
       "     name_type published_date  \n",
       "1408        da     2024-05-12  \n",
       "72          da     2024-06-09  \n",
       "501         ds     2024-04-08  \n",
       "10          ds     2024-06-10  \n",
       "1273        da     2024-04-19  \n",
       "...        ...            ...  \n",
       "517         ds     2024-03-27  \n",
       "805         ds     2024-04-26  \n",
       "11          ds     2024-05-27  \n",
       "1302        da     2024-04-22  \n",
       "1777        da     2024-05-22  \n",
       "\n",
       "[659 rows x 22 columns]"
      ]
     },
     "execution_count": 19,
     "metadata": {},
     "output_type": "execute_result"
    }
   ],
   "source": [
    "vacancies[\n",
    "    vacancies.duplicated(\n",
    "        subset=['name', 'employer', 'department', 'area', 'description'],\n",
    "        keep=False\n",
    "    )].sort_values(by=['name', 'employer', 'published_date'])"
   ]
  },
  {
   "cell_type": "markdown",
   "id": "635a10c3-409b-4ce2-9c13-2415ab020954",
   "metadata": {},
   "source": [
    "Более 20% вакансий - неявные дубликаты по наименованию компании, наименованию вакансии, но зачастую они имеют разную дату размещения вакансии. Такие дубликаты удалять не будем, т.к. одна и таже вакансия от одной и той же компании может быть размещена несколько раз по разным причинам:\n",
    "- от разных рекрутеров (например, при использовании доп.ресурса кадрового агенства)\n",
    "- при различных обстоятельствах при прохождении соискателя по воронке подбора (например, соискатель отказался на последнем этапе)\n",
    "- внутренние процессы компании, связанные с подбором\n",
    "   "
   ]
  },
  {
   "cell_type": "markdown",
   "id": "9882e185-05fa-4162-8891-e87d22de4728",
   "metadata": {},
   "source": [
    "# Поиск аномальных значений"
   ]
  },
  {
   "cell_type": "markdown",
   "id": "4fd98a12-37da-4a5b-b4ad-51da24d59d6a",
   "metadata": {},
   "source": [
    "Посмотрим минимальные и максимальные даты"
   ]
  },
  {
   "cell_type": "code",
   "execution_count": 20,
   "id": "64ac9587-122d-465b-ac39-d0ed6ce6796c",
   "metadata": {},
   "outputs": [
    {
     "name": "stdout",
     "output_type": "stream",
     "text": [
      "2024-02-13\n",
      "2024-06-11\n"
     ]
    }
   ],
   "source": [
    "print(vacancies['published_date'].min())\n",
    "print(vacancies['published_date'].max())"
   ]
  },
  {
   "cell_type": "markdown",
   "id": "b007fbbb-00da-47c3-a802-3c7924f5745c",
   "metadata": {},
   "source": [
    "Расчет помесячной динамики количества вакансий"
   ]
  },
  {
   "cell_type": "code",
   "execution_count": 21,
   "id": "fee3de89-480f-48f9-9a4d-f7e85c90b5c9",
   "metadata": {},
   "outputs": [
    {
     "name": "stderr",
     "output_type": "stream",
     "text": [
      "C:\\ProgramData\\anaconda3\\Lib\\site-packages\\seaborn\\_oldcore.py:1119: FutureWarning: use_inf_as_na option is deprecated and will be removed in a future version. Convert inf values to NaN before operating instead.\n",
      "  with pd.option_context('mode.use_inf_as_na', True):\n",
      "C:\\ProgramData\\anaconda3\\Lib\\site-packages\\seaborn\\_oldcore.py:1119: FutureWarning: use_inf_as_na option is deprecated and will be removed in a future version. Convert inf values to NaN before operating instead.\n",
      "  with pd.option_context('mode.use_inf_as_na', True):\n",
      "C:\\ProgramData\\anaconda3\\Lib\\site-packages\\seaborn\\_oldcore.py:1119: FutureWarning: use_inf_as_na option is deprecated and will be removed in a future version. Convert inf values to NaN before operating instead.\n",
      "  with pd.option_context('mode.use_inf_as_na', True):\n",
      "C:\\ProgramData\\anaconda3\\Lib\\site-packages\\seaborn\\_oldcore.py:1119: FutureWarning: use_inf_as_na option is deprecated and will be removed in a future version. Convert inf values to NaN before operating instead.\n",
      "  with pd.option_context('mode.use_inf_as_na', True):\n"
     ]
    },
    {
     "data": {
      "image/png": "[encoded data removed]",
      "text/plain": [
       "<Figure size 1000x500 with 1 Axes>"
      ]
     },
     "metadata": {},
     "output_type": "display_data"
    }
   ],
   "source": [
    "fig, ax = plt.subplots(figsize=(10, 5))\n",
    "\n",
    "# получаем данные для графиков\n",
    "df = vacancies.groupby(['name_type', 'published_date'], as_index=False).id.count()\n",
    "\n",
    "# отрисовываем графики\n",
    "sns.lineplot(df[df.name_type == 'da'], x='published_date', y='id', ax=ax)\n",
    "sns.lineplot(df[df.name_type == 'ds'], x='published_date', y='id', ax=ax)\n",
    "\n",
    "# Добавляем названия\n",
    "plt.title('Динамика публикаций вакансий', fontsize=12)\n",
    "plt.xlabel('Дата')\n",
    "plt.ylabel('Количество вакансий')\n",
    "plt.grid(False)\n",
    "# добавляем легенду\n",
    "analyst_patch = mpatches.Patch(color = '#a1c9f4', label='Aналитики')\n",
    "datascience_patch = mpatches.Patch(color = '#8de5a1',label='Датасайентисты')\n",
    "plt.legend(handles=[analyst_patch, datascience_patch])\n",
    "\n",
    "plt.savefig('dinamica.png')\n",
    "\n",
    "# выводим график\n",
    "plt.show()"
   ]
  },
  {
   "cell_type": "markdown",
   "id": "e1eacdc7-7e99-41cd-8260-da568aac676f",
   "metadata": {},
   "source": [
    "Наблюдается некоторый рост числа вакансий в конце периода, скорее всего он связан с актуальностью размещенных вакансий. С учетом того, что вероятность закрытия вакансии увеличивается с течением времени после ее публикации, текущие данные не позволяют точно оценить динамику изменения количества вакансий."
   ]
  },
  {
   "cell_type": "markdown",
   "id": "987a42f0-b01d-44db-884e-d72863edae17",
   "metadata": {},
   "source": [
    "Посмотрим какие регионы присутствуют в нашем датасете"
   ]
  },
  {
   "cell_type": "code",
   "execution_count": 22,
   "id": "a501f524-4a5a-44bc-b06a-34792ec06b3c",
   "metadata": {},
   "outputs": [
    {
     "data": {
      "text/plain": [
       "area\n",
       "Москва                          1975\n",
       "Санкт-Петербург                  264\n",
       "Екатеринбург                      68\n",
       "Новосибирск                       56\n",
       "Нижний Новгород                   50\n",
       "Казань                            40\n",
       "Владивосток                       31\n",
       "Краснодар                         27\n",
       "Самара                            16\n",
       "Ростов-на-Дону                    12\n",
       "Пермь                             12\n",
       "Челябинск                         12\n",
       "Воронеж                           11\n",
       "Тюмень                            11\n",
       "Томск                             11\n",
       "Ижевск                             7\n",
       "Владимир                           7\n",
       "Красноярск                         6\n",
       "Адыгейск                           6\n",
       "Иваново (Ивановская область)       5\n",
       "Name: name_type, dtype: int64"
      ]
     },
     "metadata": {},
     "output_type": "display_data"
    }
   ],
   "source": [
    "display(vacancies.groupby('area')['name_type'].count().sort_values(ascending=False).head(20))"
   ]
  },
  {
   "cell_type": "markdown",
   "id": "88c51723-b61b-43a5-8743-c58355f76d7d",
   "metadata": {},
   "source": [
    "Основная часть вакансий "
   ]
  },
  {
   "cell_type": "code",
   "execution_count": 23,
   "id": "26d4a5cc-75cd-4072-8a79-f4061afb11e1",
   "metadata": {},
   "outputs": [
    {
     "data": {
      "text/html": [
       "<div>\n",
       "<style scoped>\n",
       "    .dataframe tbody tr th:only-of-type {\n",
       "        vertical-align: middle;\n",
       "    }\n",
       "\n",
       "    .dataframe tbody tr th {\n",
       "        vertical-align: top;\n",
       "    }\n",
       "\n",
       "    .dataframe thead th {\n",
       "        text-align: right;\n",
       "    }\n",
       "</style>\n",
       "<table border=\"1\" class=\"dataframe\">\n",
       "  <thead>\n",
       "    <tr style=\"text-align: right;\">\n",
       "      <th></th>\n",
       "      <th>area</th>\n",
       "      <th>total_count</th>\n",
       "      <th>share</th>\n",
       "    </tr>\n",
       "  </thead>\n",
       "  <tbody>\n",
       "    <tr>\n",
       "      <th>34</th>\n",
       "      <td>Москва</td>\n",
       "      <td>1975</td>\n",
       "      <td>73.0</td>\n",
       "    </tr>\n",
       "    <tr>\n",
       "      <th>50</th>\n",
       "      <td>Санкт-Петербург</td>\n",
       "      <td>264</td>\n",
       "      <td>10.0</td>\n",
       "    </tr>\n",
       "    <tr>\n",
       "      <th>17</th>\n",
       "      <td>Екатеринбург</td>\n",
       "      <td>68</td>\n",
       "      <td>2.0</td>\n",
       "    </tr>\n",
       "    <tr>\n",
       "      <th>39</th>\n",
       "      <td>Новосибирск</td>\n",
       "      <td>56</td>\n",
       "      <td>2.0</td>\n",
       "    </tr>\n",
       "    <tr>\n",
       "      <th>38</th>\n",
       "      <td>Нижний Новгород</td>\n",
       "      <td>50</td>\n",
       "      <td>2.0</td>\n",
       "    </tr>\n",
       "    <tr>\n",
       "      <th>...</th>\n",
       "      <td>...</td>\n",
       "      <td>...</td>\n",
       "      <td>...</td>\n",
       "    </tr>\n",
       "    <tr>\n",
       "      <th>1</th>\n",
       "      <td>Алтайское</td>\n",
       "      <td>1</td>\n",
       "      <td>0.0</td>\n",
       "    </tr>\n",
       "    <tr>\n",
       "      <th>40</th>\n",
       "      <td>Одинцово</td>\n",
       "      <td>1</td>\n",
       "      <td>0.0</td>\n",
       "    </tr>\n",
       "    <tr>\n",
       "      <th>42</th>\n",
       "      <td>Оренбург</td>\n",
       "      <td>1</td>\n",
       "      <td>0.0</td>\n",
       "    </tr>\n",
       "    <tr>\n",
       "      <th>44</th>\n",
       "      <td>Подольск (Московская область)</td>\n",
       "      <td>1</td>\n",
       "      <td>0.0</td>\n",
       "    </tr>\n",
       "    <tr>\n",
       "      <th>73</th>\n",
       "      <td>Ярославль</td>\n",
       "      <td>1</td>\n",
       "      <td>0.0</td>\n",
       "    </tr>\n",
       "  </tbody>\n",
       "</table>\n",
       "<p>74 rows × 3 columns</p>\n",
       "</div>"
      ],
      "text/plain": [
       "                             area  total_count  share\n",
       "34                         Москва         1975   73.0\n",
       "50                Санкт-Петербург          264   10.0\n",
       "17                   Екатеринбург           68    2.0\n",
       "39                    Новосибирск           56    2.0\n",
       "38                Нижний Новгород           50    2.0\n",
       "..                            ...          ...    ...\n",
       "1                       Алтайское            1    0.0\n",
       "40                       Одинцово            1    0.0\n",
       "42                       Оренбург            1    0.0\n",
       "44  Подольск (Московская область)            1    0.0\n",
       "73                      Ярославль            1    0.0\n",
       "\n",
       "[74 rows x 3 columns]"
      ]
     },
     "metadata": {},
     "output_type": "display_data"
    }
   ],
   "source": [
    "# отфильтруем данные, сгруппируем по категориям и посчитаем\n",
    "df_loc_count = vacancies.groupby('area')[['name_type']].count()\n",
    "# переименуем столбец\n",
    "df_loc_count.columns = ['total_count']\n",
    "df_loc_count['share']=(df_loc_count['total_count']/df_loc_count['total_count'].sum()*100).round(0)\n",
    "df_loc_count = df_loc_count.reset_index().sort_values(by='total_count', ascending=False)\n",
    "display(df_loc_count)"
   ]
  },
  {
   "cell_type": "markdown",
   "id": "fab860d6-272f-4e3d-a178-a973b9c0be02",
   "metadata": {},
   "source": [
    "Посмотрим значения в переменной experience"
   ]
  },
  {
   "cell_type": "code",
   "execution_count": 24,
   "id": "5331244f-1784-44d7-be85-6405054a4630",
   "metadata": {},
   "outputs": [
    {
     "data": {
      "text/plain": [
       "experience\n",
       "Junior+ (1-3 years)      1496\n",
       "Middle (3-6 years)        996\n",
       "Junior (no experince)     185\n",
       "Senior (6+ years)          44\n",
       "Name: count, dtype: int64"
      ]
     },
     "execution_count": 24,
     "metadata": {},
     "output_type": "execute_result"
    }
   ],
   "source": [
    "vacancies['experience'].value_counts()"
   ]
  },
  {
   "cell_type": "markdown",
   "id": "645b154d-61b0-4d12-9614-112b13e23735",
   "metadata": {},
   "source": [
    "Больше всего вакансий для Junior+ (1-3 years) "
   ]
  },
  {
   "cell_type": "markdown",
   "id": "b2e9596e-2f81-451d-9df3-477249321ec7",
   "metadata": {},
   "source": [
    "Посмотрим какие значения принимает переменная schedule(график работы)"
   ]
  },
  {
   "cell_type": "code",
   "execution_count": 25,
   "id": "699fee4e-4168-4d01-ae78-13780b1ef15c",
   "metadata": {},
   "outputs": [
    {
     "data": {
      "text/plain": [
       "schedule\n",
       "Полный день         2116\n",
       "Удаленная работа     511\n",
       "Гибкий график         80\n",
       "Сменный график        14\n",
       "Name: count, dtype: int64"
      ]
     },
     "execution_count": 25,
     "metadata": {},
     "output_type": "execute_result"
    }
   ],
   "source": [
    "vacancies['schedule'].value_counts()"
   ]
  },
  {
   "cell_type": "markdown",
   "id": "886ff43f-97db-4aed-8ef5-39f4684bd85f",
   "metadata": {},
   "source": [
    "Посмотрим какие значения принимает переменная employment"
   ]
  },
  {
   "cell_type": "code",
   "execution_count": 26,
   "id": "43165cfc-4d8b-44a1-9c69-08213e1eccce",
   "metadata": {},
   "outputs": [
    {
     "data": {
      "text/plain": [
       "employment\n",
       "Полная занятость       2653\n",
       "Стажировка               35\n",
       "Частичная занятость      23\n",
       "Проектная работа         10\n",
       "Name: count, dtype: int64"
      ]
     },
     "execution_count": 26,
     "metadata": {},
     "output_type": "execute_result"
    }
   ],
   "source": [
    "vacancies['employment'].value_counts()"
   ]
  },
  {
   "cell_type": "code",
   "execution_count": 27,
   "id": "3d31faa9-3598-45b6-b6ae-4e8eb8e7dd37",
   "metadata": {},
   "outputs": [],
   "source": [
    "vacancies.reset_index(drop=True, inplace=True)"
   ]
  },
  {
   "cell_type": "markdown",
   "id": "58c83cdc-3fa5-4366-b593-fcb631e13dfe",
   "metadata": {},
   "source": [
    "Далее посмотрим на столбец с указанием зарплат. Создадим новый категорийный столбец с зарплатой, где зарплата - это среднее между верхним и нижним зарплатным порогом, если указаны оба значения.  Если указано только одно из значений, то мспользуем известное значение."
   ]
  },
  {
   "cell_type": "code",
   "execution_count": 28,
   "id": "1432364e-8d54-4e11-99ae-4b9449118847",
   "metadata": {},
   "outputs": [],
   "source": [
    "def calc_salary_avg(row: pd.Series) -> float:\n",
    "# Проверяем, указаны ли оба порога зарплаты, и если да, возвращаем их среднее\n",
    "    if not row.isna()['salary_to'] and not row.isna()['salary_from']:\n",
    "        return (row['salary_to'] + row['salary_from']) / 2\n",
    "    \n",
    "    # Возвращаем верхний порог зарплаты, если он указан\n",
    "    if not row.isna()['salary_to']:\n",
    "        return row['salary_to']\n",
    "    \n",
    "    # Возвращаем нижний порог зарплаты, если он указан\n",
    "    if not row.isna()['salary_from']:\n",
    "        return row['salary_from']"
   ]
  },
  {
   "cell_type": "code",
   "execution_count": 29,
   "id": "8b70c439-9e02-48d5-b296-73e28a9f0514",
   "metadata": {},
   "outputs": [],
   "source": [
    "vacancies['salary_avg'] = vacancies.apply(calc_salary_avg, axis=1)"
   ]
  },
  {
   "cell_type": "markdown",
   "id": "4970ffdf-b1be-4212-81c6-20b91b81e7fb",
   "metadata": {},
   "source": [
    "Посмотрим какие значения принимает переменная salary_bin"
   ]
  },
  {
   "cell_type": "code",
   "execution_count": 30,
   "id": "5003a2bc-10ea-4f0a-871b-ac3443d9a221",
   "metadata": {},
   "outputs": [
    {
     "data": {
      "text/plain": [
       "salary_bin\n",
       "ЗП не указана                2420\n",
       "От 100 тысяч до 200 тысяч     108\n",
       "Меньше 100 тысяч               74\n",
       "Больше 300 тысяч               67\n",
       "От 200 тысяч до 300 тысяч      52\n",
       "Name: count, dtype: int64"
      ]
     },
     "execution_count": 30,
     "metadata": {},
     "output_type": "execute_result"
    }
   ],
   "source": [
    "vacancies['salary_bin'].value_counts()"
   ]
  },
  {
   "cell_type": "markdown",
   "id": "bc0b0caa-4f97-4514-bc28-c8211a3fb7c5",
   "metadata": {},
   "source": [
    "Попробуем заполнить значения средней ЗП из столбца salary_num, если в столбце salary_bin \"ЗП не указана\""
   ]
  },
  {
   "cell_type": "code",
   "execution_count": 31,
   "id": "fbf0fe38-ebf1-4a73-afb9-a858084e1e16",
   "metadata": {},
   "outputs": [],
   "source": [
    "def calc_salary_bin(row: pd.Series) -> str:\n",
    "        # Проверяем отсутствие данных о зарплате\n",
    "    if row.isna()['salary_avg']:\n",
    "        return 'ЗП не указана'\n",
    "    \n",
    "    # Категоризируем зарплату\n",
    "    else:\n",
    "        if row['salary_avg'] > 300000:\n",
    "            return 'Больше 300 тысяч'\n",
    "        if row['salary_avg'] > 200000:\n",
    "            return 'От 200 тысяч до 300 тысяч'\n",
    "        if row['salary_avg'] > 100000:\n",
    "            return 'От 100 тысяч до 200 тысяч'\n",
    "        else:\n",
    "            return 'Меньше 100 тысяч'"
   ]
  },
  {
   "cell_type": "code",
   "execution_count": 32,
   "id": "d360ae4f-ce84-413b-979f-bab2a9877b1f",
   "metadata": {},
   "outputs": [],
   "source": [
    "vacancies['calc_salary_bin'] = vacancies.apply(calc_salary_bin, axis=1)"
   ]
  },
  {
   "cell_type": "code",
   "execution_count": 33,
   "id": "09fc499d-7b9b-4589-832a-c4ca87c5b5a6",
   "metadata": {},
   "outputs": [
    {
     "data": {
      "text/html": [
       "<div>\n",
       "<style scoped>\n",
       "    .dataframe tbody tr th:only-of-type {\n",
       "        vertical-align: middle;\n",
       "    }\n",
       "\n",
       "    .dataframe tbody tr th {\n",
       "        vertical-align: top;\n",
       "    }\n",
       "\n",
       "    .dataframe thead th {\n",
       "        text-align: right;\n",
       "    }\n",
       "</style>\n",
       "<table border=\"1\" class=\"dataframe\">\n",
       "  <thead>\n",
       "    <tr style=\"text-align: right;\">\n",
       "      <th></th>\n",
       "      <th>id</th>\n",
       "      <th>name</th>\n",
       "      <th>published_at</th>\n",
       "      <th>alternate_url</th>\n",
       "      <th>type</th>\n",
       "      <th>employer</th>\n",
       "      <th>department</th>\n",
       "      <th>area</th>\n",
       "      <th>experience</th>\n",
       "      <th>key_skills</th>\n",
       "      <th>...</th>\n",
       "      <th>salary_from</th>\n",
       "      <th>salary_to</th>\n",
       "      <th>salary_bin</th>\n",
       "      <th>key_skills_from_key_skills_field</th>\n",
       "      <th>hard_skills_from_description</th>\n",
       "      <th>soft_skills_from_description</th>\n",
       "      <th>name_type</th>\n",
       "      <th>published_date</th>\n",
       "      <th>salary_avg</th>\n",
       "      <th>calc_salary_bin</th>\n",
       "    </tr>\n",
       "  </thead>\n",
       "  <tbody>\n",
       "    <tr>\n",
       "      <th>0</th>\n",
       "      <td>100039284</td>\n",
       "      <td>junior аналитик данных (исследователь)</td>\n",
       "      <td>2024-05-24 09:37:04</td>\n",
       "      <td>https://hh.ru/vacancy/100039284</td>\n",
       "      <td>Открытая</td>\n",
       "      <td>DNS Головной офис</td>\n",
       "      <td>NaN</td>\n",
       "      <td>Владивосток</td>\n",
       "      <td>Junior (no experince)</td>\n",
       "      <td>['Power BI', 'СУБД', 'Python', 'SQL']</td>\n",
       "      <td>...</td>\n",
       "      <td>60000.0</td>\n",
       "      <td>NaN</td>\n",
       "      <td>ЗП не указана</td>\n",
       "      <td>SQL, Power BI, Python, СУБД</td>\n",
       "      <td>NaN</td>\n",
       "      <td>NaN</td>\n",
       "      <td>da</td>\n",
       "      <td>2024-05-24</td>\n",
       "      <td>60000.0</td>\n",
       "      <td>Меньше 100 тысяч</td>\n",
       "    </tr>\n",
       "    <tr>\n",
       "      <th>1</th>\n",
       "      <td>100039480</td>\n",
       "      <td>аналитик данных</td>\n",
       "      <td>2024-05-24 09:39:00</td>\n",
       "      <td>https://hh.ru/vacancy/100039480</td>\n",
       "      <td>Открытая</td>\n",
       "      <td>Комус</td>\n",
       "      <td>NaN</td>\n",
       "      <td>Москва</td>\n",
       "      <td>Junior (no experince)</td>\n",
       "      <td>['MS SQL', 'Работа с базами данных', 'MS Excel']</td>\n",
       "      <td>...</td>\n",
       "      <td>NaN</td>\n",
       "      <td>NaN</td>\n",
       "      <td>ЗП не указана</td>\n",
       "      <td>Работа с базами данных, MS SQL, MS Excel</td>\n",
       "      <td>NaN</td>\n",
       "      <td>NaN</td>\n",
       "      <td>da</td>\n",
       "      <td>2024-05-24</td>\n",
       "      <td>NaN</td>\n",
       "      <td>ЗП не указана</td>\n",
       "    </tr>\n",
       "    <tr>\n",
       "      <th>2</th>\n",
       "      <td>100042705</td>\n",
       "      <td>аналитик данных (исследователь)</td>\n",
       "      <td>2024-05-24 10:01:25</td>\n",
       "      <td>https://hh.ru/vacancy/100042705</td>\n",
       "      <td>Открытая</td>\n",
       "      <td>DNS Головной офис</td>\n",
       "      <td>NaN</td>\n",
       "      <td>Владивосток</td>\n",
       "      <td>Junior+ (1-3 years)</td>\n",
       "      <td>['SQL', 'Power BI', 'СУБД', 'Python', 'Clickho...</td>\n",
       "      <td>...</td>\n",
       "      <td>90000.0</td>\n",
       "      <td>NaN</td>\n",
       "      <td>ЗП не указана</td>\n",
       "      <td>SQL, Power BI, Python, СУБД, BPMN, Clickhouse</td>\n",
       "      <td>NaN</td>\n",
       "      <td>NaN</td>\n",
       "      <td>da</td>\n",
       "      <td>2024-05-24</td>\n",
       "      <td>90000.0</td>\n",
       "      <td>Меньше 100 тысяч</td>\n",
       "    </tr>\n",
       "    <tr>\n",
       "      <th>3</th>\n",
       "      <td>100046788</td>\n",
       "      <td>ведущий аналитик данных</td>\n",
       "      <td>2024-05-24 10:28:18</td>\n",
       "      <td>https://hh.ru/vacancy/100046788</td>\n",
       "      <td>Открытая</td>\n",
       "      <td>Х5 Group</td>\n",
       "      <td>X5 GROUP, Центральный офис</td>\n",
       "      <td>Москва</td>\n",
       "      <td>Junior+ (1-3 years)</td>\n",
       "      <td>['Анализ данных', 'Коммуникация', 'SQL', 'MS O...</td>\n",
       "      <td>...</td>\n",
       "      <td>NaN</td>\n",
       "      <td>NaN</td>\n",
       "      <td>ЗП не указана</td>\n",
       "      <td>MS Office, SQL, Python, Hadoop, Нive, Аналитич...</td>\n",
       "      <td>Pandas, Юнит-экономика</td>\n",
       "      <td>Коммуникация</td>\n",
       "      <td>da</td>\n",
       "      <td>2024-05-24</td>\n",
       "      <td>NaN</td>\n",
       "      <td>ЗП не указана</td>\n",
       "    </tr>\n",
       "    <tr>\n",
       "      <th>4</th>\n",
       "      <td>100056244</td>\n",
       "      <td>аналитик данных</td>\n",
       "      <td>2024-05-24 11:27:40</td>\n",
       "      <td>https://hh.ru/vacancy/100056244</td>\n",
       "      <td>Открытая</td>\n",
       "      <td>ЛУКОЙЛ</td>\n",
       "      <td>NaN</td>\n",
       "      <td>Москва</td>\n",
       "      <td>Middle (3-6 years)</td>\n",
       "      <td>['Документация']</td>\n",
       "      <td>...</td>\n",
       "      <td>NaN</td>\n",
       "      <td>NaN</td>\n",
       "      <td>ЗП не указана</td>\n",
       "      <td>NaN</td>\n",
       "      <td>NaN</td>\n",
       "      <td>Документация</td>\n",
       "      <td>da</td>\n",
       "      <td>2024-05-24</td>\n",
       "      <td>NaN</td>\n",
       "      <td>ЗП не указана</td>\n",
       "    </tr>\n",
       "    <tr>\n",
       "      <th>5</th>\n",
       "      <td>100059110</td>\n",
       "      <td>senior data analyst (цифровой билайн)</td>\n",
       "      <td>2024-06-11 11:45:29</td>\n",
       "      <td>https://hh.ru/vacancy/100059110</td>\n",
       "      <td>Открытая</td>\n",
       "      <td>билайн</td>\n",
       "      <td>билайн: ИТ, Data, Digital</td>\n",
       "      <td>Москва</td>\n",
       "      <td>Middle (3-6 years)</td>\n",
       "      <td>['Python', 'SQL', 'Математическая статистика']</td>\n",
       "      <td>...</td>\n",
       "      <td>NaN</td>\n",
       "      <td>NaN</td>\n",
       "      <td>ЗП не указана</td>\n",
       "      <td>Python, SQL, Математическая статистика</td>\n",
       "      <td>NaN</td>\n",
       "      <td>NaN</td>\n",
       "      <td>da</td>\n",
       "      <td>2024-06-11</td>\n",
       "      <td>NaN</td>\n",
       "      <td>ЗП не указана</td>\n",
       "    </tr>\n",
       "    <tr>\n",
       "      <th>6</th>\n",
       "      <td>100060772</td>\n",
       "      <td>аналитик данных</td>\n",
       "      <td>2024-05-24 11:56:20</td>\n",
       "      <td>https://hh.ru/vacancy/100060772</td>\n",
       "      <td>Открытая</td>\n",
       "      <td>ГКУ Центр занятости населения города Москвы</td>\n",
       "      <td>NaN</td>\n",
       "      <td>Москва</td>\n",
       "      <td>Junior+ (1-3 years)</td>\n",
       "      <td>[]</td>\n",
       "      <td>...</td>\n",
       "      <td>100000.0</td>\n",
       "      <td>NaN</td>\n",
       "      <td>ЗП не указана</td>\n",
       "      <td>NaN</td>\n",
       "      <td>NaN</td>\n",
       "      <td>NaN</td>\n",
       "      <td>da</td>\n",
       "      <td>2024-05-24</td>\n",
       "      <td>100000.0</td>\n",
       "      <td>Меньше 100 тысяч</td>\n",
       "    </tr>\n",
       "    <tr>\n",
       "      <th>7</th>\n",
       "      <td>100069131</td>\n",
       "      <td>дата аналитик</td>\n",
       "      <td>2024-05-24 13:05:01</td>\n",
       "      <td>https://hh.ru/vacancy/100069131</td>\n",
       "      <td>Открытая</td>\n",
       "      <td>СБЕР</td>\n",
       "      <td>Сбер для экспертов</td>\n",
       "      <td>Санкт-Петербург</td>\n",
       "      <td>Junior+ (1-3 years)</td>\n",
       "      <td>['Документация', 'Проактивность', 'Коммуникация']</td>\n",
       "      <td>...</td>\n",
       "      <td>NaN</td>\n",
       "      <td>NaN</td>\n",
       "      <td>ЗП не указана</td>\n",
       "      <td>NaN</td>\n",
       "      <td>NaN</td>\n",
       "      <td>Коммуникация, Документация, Проактивность</td>\n",
       "      <td>da</td>\n",
       "      <td>2024-05-24</td>\n",
       "      <td>NaN</td>\n",
       "      <td>ЗП не указана</td>\n",
       "    </tr>\n",
       "    <tr>\n",
       "      <th>8</th>\n",
       "      <td>100069821</td>\n",
       "      <td>аналитик данных</td>\n",
       "      <td>2024-06-10 16:49:49</td>\n",
       "      <td>https://hh.ru/vacancy/100069821</td>\n",
       "      <td>Открытая</td>\n",
       "      <td>МТС</td>\n",
       "      <td>«МТС»</td>\n",
       "      <td>Казань</td>\n",
       "      <td>Junior+ (1-3 years)</td>\n",
       "      <td>[]</td>\n",
       "      <td>...</td>\n",
       "      <td>72000.0</td>\n",
       "      <td>NaN</td>\n",
       "      <td>ЗП не указана</td>\n",
       "      <td>NaN</td>\n",
       "      <td>NaN</td>\n",
       "      <td>NaN</td>\n",
       "      <td>da</td>\n",
       "      <td>2024-06-10</td>\n",
       "      <td>72000.0</td>\n",
       "      <td>Меньше 100 тысяч</td>\n",
       "    </tr>\n",
       "    <tr>\n",
       "      <th>9</th>\n",
       "      <td>100071014</td>\n",
       "      <td>аналитик данных</td>\n",
       "      <td>2024-06-07 11:08:22</td>\n",
       "      <td>https://hh.ru/vacancy/100071014</td>\n",
       "      <td>Открытая</td>\n",
       "      <td>Россети Урал</td>\n",
       "      <td>NaN</td>\n",
       "      <td>Екатеринбург</td>\n",
       "      <td>Junior+ (1-3 years)</td>\n",
       "      <td>['Аналитическое мышление']</td>\n",
       "      <td>...</td>\n",
       "      <td>51000.0</td>\n",
       "      <td>NaN</td>\n",
       "      <td>ЗП не указана</td>\n",
       "      <td>NaN</td>\n",
       "      <td>NaN</td>\n",
       "      <td>Аналитическое мышление</td>\n",
       "      <td>da</td>\n",
       "      <td>2024-06-07</td>\n",
       "      <td>51000.0</td>\n",
       "      <td>Меньше 100 тысяч</td>\n",
       "    </tr>\n",
       "  </tbody>\n",
       "</table>\n",
       "<p>10 rows × 24 columns</p>\n",
       "</div>"
      ],
      "text/plain": [
       "          id                                    name        published_at  \\\n",
       "0  100039284  junior аналитик данных (исследователь) 2024-05-24 09:37:04   \n",
       "1  100039480                         аналитик данных 2024-05-24 09:39:00   \n",
       "2  100042705         аналитик данных (исследователь) 2024-05-24 10:01:25   \n",
       "3  100046788                 ведущий аналитик данных 2024-05-24 10:28:18   \n",
       "4  100056244                         аналитик данных 2024-05-24 11:27:40   \n",
       "5  100059110   senior data analyst (цифровой билайн) 2024-06-11 11:45:29   \n",
       "6  100060772                         аналитик данных 2024-05-24 11:56:20   \n",
       "7  100069131                           дата аналитик 2024-05-24 13:05:01   \n",
       "8  100069821                         аналитик данных 2024-06-10 16:49:49   \n",
       "9  100071014                         аналитик данных 2024-06-07 11:08:22   \n",
       "\n",
       "                     alternate_url      type  \\\n",
       "0  https://hh.ru/vacancy/100039284  Открытая   \n",
       "1  https://hh.ru/vacancy/100039480  Открытая   \n",
       "2  https://hh.ru/vacancy/100042705  Открытая   \n",
       "3  https://hh.ru/vacancy/100046788  Открытая   \n",
       "4  https://hh.ru/vacancy/100056244  Открытая   \n",
       "5  https://hh.ru/vacancy/100059110  Открытая   \n",
       "6  https://hh.ru/vacancy/100060772  Открытая   \n",
       "7  https://hh.ru/vacancy/100069131  Открытая   \n",
       "8  https://hh.ru/vacancy/100069821  Открытая   \n",
       "9  https://hh.ru/vacancy/100071014  Открытая   \n",
       "\n",
       "                                      employer                  department  \\\n",
       "0                            DNS Головной офис                         NaN   \n",
       "1                                        Комус                         NaN   \n",
       "2                            DNS Головной офис                         NaN   \n",
       "3                                     Х5 Group  X5 GROUP, Центральный офис   \n",
       "4                                       ЛУКОЙЛ                         NaN   \n",
       "5                                       билайн   билайн: ИТ, Data, Digital   \n",
       "6  ГКУ Центр занятости населения города Москвы                         NaN   \n",
       "7                                         СБЕР          Сбер для экспертов   \n",
       "8                                          МТС                      «МТС»    \n",
       "9                                 Россети Урал                         NaN   \n",
       "\n",
       "              area             experience  \\\n",
       "0      Владивосток  Junior (no experince)   \n",
       "1           Москва  Junior (no experince)   \n",
       "2      Владивосток    Junior+ (1-3 years)   \n",
       "3           Москва    Junior+ (1-3 years)   \n",
       "4           Москва     Middle (3-6 years)   \n",
       "5           Москва     Middle (3-6 years)   \n",
       "6           Москва    Junior+ (1-3 years)   \n",
       "7  Санкт-Петербург    Junior+ (1-3 years)   \n",
       "8           Казань    Junior+ (1-3 years)   \n",
       "9     Екатеринбург    Junior+ (1-3 years)   \n",
       "\n",
       "                                          key_skills  ... salary_from  \\\n",
       "0              ['Power BI', 'СУБД', 'Python', 'SQL']  ...     60000.0   \n",
       "1   ['MS SQL', 'Работа с базами данных', 'MS Excel']  ...         NaN   \n",
       "2  ['SQL', 'Power BI', 'СУБД', 'Python', 'Clickho...  ...     90000.0   \n",
       "3  ['Анализ данных', 'Коммуникация', 'SQL', 'MS O...  ...         NaN   \n",
       "4                                   ['Документация']  ...         NaN   \n",
       "5     ['Python', 'SQL', 'Математическая статистика']  ...         NaN   \n",
       "6                                                 []  ...    100000.0   \n",
       "7  ['Документация', 'Проактивность', 'Коммуникация']  ...         NaN   \n",
       "8                                                 []  ...     72000.0   \n",
       "9                         ['Аналитическое мышление']  ...     51000.0   \n",
       "\n",
       "  salary_to     salary_bin                   key_skills_from_key_skills_field  \\\n",
       "0       NaN  ЗП не указана                        SQL, Power BI, Python, СУБД   \n",
       "1       NaN  ЗП не указана           Работа с базами данных, MS SQL, MS Excel   \n",
       "2       NaN  ЗП не указана      SQL, Power BI, Python, СУБД, BPMN, Clickhouse   \n",
       "3       NaN  ЗП не указана  MS Office, SQL, Python, Hadoop, Нive, Аналитич...   \n",
       "4       NaN  ЗП не указана                                                NaN   \n",
       "5       NaN  ЗП не указана             Python, SQL, Математическая статистика   \n",
       "6       NaN  ЗП не указана                                                NaN   \n",
       "7       NaN  ЗП не указана                                                NaN   \n",
       "8       NaN  ЗП не указана                                                NaN   \n",
       "9       NaN  ЗП не указана                                                NaN   \n",
       "\n",
       "   hard_skills_from_description               soft_skills_from_description  \\\n",
       "0                           NaN                                        NaN   \n",
       "1                           NaN                                        NaN   \n",
       "2                           NaN                                        NaN   \n",
       "3        Pandas, Юнит-экономика                               Коммуникация   \n",
       "4                           NaN                               Документация   \n",
       "5                           NaN                                        NaN   \n",
       "6                           NaN                                        NaN   \n",
       "7                           NaN  Коммуникация, Документация, Проактивность   \n",
       "8                           NaN                                        NaN   \n",
       "9                           NaN                     Аналитическое мышление   \n",
       "\n",
       "  name_type published_date salary_avg   calc_salary_bin  \n",
       "0        da     2024-05-24    60000.0  Меньше 100 тысяч  \n",
       "1        da     2024-05-24        NaN     ЗП не указана  \n",
       "2        da     2024-05-24    90000.0  Меньше 100 тысяч  \n",
       "3        da     2024-05-24        NaN     ЗП не указана  \n",
       "4        da     2024-05-24        NaN     ЗП не указана  \n",
       "5        da     2024-06-11        NaN     ЗП не указана  \n",
       "6        da     2024-05-24   100000.0  Меньше 100 тысяч  \n",
       "7        da     2024-05-24        NaN     ЗП не указана  \n",
       "8        da     2024-06-10    72000.0  Меньше 100 тысяч  \n",
       "9        da     2024-06-07    51000.0  Меньше 100 тысяч  \n",
       "\n",
       "[10 rows x 24 columns]"
      ]
     },
     "execution_count": 33,
     "metadata": {},
     "output_type": "execute_result"
    }
   ],
   "source": [
    "vacancies.head(10)"
   ]
  },
  {
   "cell_type": "markdown",
   "id": "7f129ae4-b938-4a7a-921f-d44489389952",
   "metadata": {},
   "source": [
    "Как видим, в расчетном столбце появились значения о зарплате, даже если ранее в столбце \"salary_bin\" информация о заработной плате отсутствовала."
   ]
  },
  {
   "cell_type": "markdown",
   "id": "6750d7a9-a556-431f-ab74-9ec43e2c2d29",
   "metadata": {},
   "source": [
    "Посмотрим распределение заработной платы"
   ]
  },
  {
   "cell_type": "code",
   "execution_count": 34,
   "id": "1431f36c-e310-4059-85c2-ffea5fcaab2e",
   "metadata": {},
   "outputs": [
    {
     "name": "stderr",
     "output_type": "stream",
     "text": [
      "C:\\ProgramData\\anaconda3\\Lib\\site-packages\\seaborn\\_oldcore.py:1119: FutureWarning: use_inf_as_na option is deprecated and will be removed in a future version. Convert inf values to NaN before operating instead.\n",
      "  with pd.option_context('mode.use_inf_as_na', True):\n"
     ]
    },
    {
     "data": {
      "image/png": "[encoded data removed]",
      "text/plain": [
       "<Figure size 1600x800 with 2 Axes>"
      ]
     },
     "metadata": {},
     "output_type": "display_data"
    }
   ],
   "source": [
    "fig, axes = plt.subplots(\n",
    "    nrows=2, ncols=1, sharex=False, \n",
    "    gridspec_kw={\"height_ratios\": (.2, .8)},\n",
    "    figsize=(16, 8)\n",
    ")\n",
    "sns.boxplot(data=vacancies, x='salary_avg', ax=axes[0], orient='h')\n",
    "sns.histplot(data=vacancies, x='salary_avg')\n",
    "axes[0].set_xlabel('')\n",
    "axes[1].set_ylabel('Количество наблюдений', fontsize=10)\n",
    "axes[1].set_xlabel('Заработная плата', fontsize=10)\n",
    "\n",
    "fig.suptitle('Распределение заработных плат', \n",
    "            fontsize=14,\n",
    "            fontweight=\"bold\",\n",
    ")\n",
    "plt.grid(False)\n",
    "plt.show()"
   ]
  },
  {
   "cell_type": "markdown",
   "id": "a0a2ff7c-4485-476b-a6f2-b46eac52d7d2",
   "metadata": {},
   "source": [
    "Видно, что медианная зарплата немного больше 100 т.р."
   ]
  },
  {
   "cell_type": "markdown",
   "id": "d550e7e6-65d5-40cf-adf5-92bf99a8203a",
   "metadata": {},
   "source": [
    "Теперь проанализируем софт и хард скиллы."
   ]
  },
  {
   "cell_type": "markdown",
   "id": "ea598b3d-58d6-45b9-b661-e11f3ef5d85e",
   "metadata": {},
   "source": [
    "Создадим переменную skills - так называемый \"мешок слов\", в котором мы найдем самые популярные скиллы.\n",
    "Немного почистим наш лист с навыками. Близкие по названию навыки приведем к единому написанию - например, 'powerbi' и 'power bi', уберем приставку ms у excel.\n",
    "Можно заметить, что хард скиллы часто пигутся на английском, поэтому мы можем разделить в дальнейшем скиллы по этому признаку. Для этого хард скиллы пропишем на английском, тем более это написание часто встречается. Для выявления топ скиллов этого достаточно."
   ]
  },
  {
   "cell_type": "code",
   "execution_count": 35,
   "id": "e3de1c76-318d-42aa-87ec-d3b73a9e4fb8",
   "metadata": {},
   "outputs": [],
   "source": [
    "#Создаем новую колонку 'skills_from_key_skills' в DataFrame 'vacancies'\n",
    "# В этой колонке для каждой вакансии будет храниться уникальный набор навыков,\n",
    "# приведенный к нижнему регистру\n",
    "vacancies['skills_from_key_skills'] = (\n",
    "    vacancies['key_skills'].map(\n",
    "        lambda x: ', '.join(set([skill[1:-1] for skill in x[1:-1].lower().split(', ')])))\n",
    ")\n",
    "# заменим в скиллах \n",
    "vacancies['skills_from_key_skills']=vacancies['skills_from_key_skills'].str.replace(r'\\bms excel\\b', 'excel,', regex=True)\n",
    "vacancies['skills_from_key_skills']=vacancies['skills_from_key_skills'].str.replace(r'\\bсводные таблицы\\b', 'excel', regex=True)\n",
    "vacancies['skills_from_key_skills']=vacancies['skills_from_key_skills'].str.replace(r'\\bанализ данных\\b', 'data analysis', regex=True)\n",
    "vacancies['skills_from_key_skills']=vacancies['skills_from_key_skills'].str.replace(r'\\bмашинное обучение\\b', 'machine learning', regex=True)\n",
    "vacancies['skills_from_key_skills']=vacancies['skills_from_key_skills'].str.replace(r'\\bml\\b', 'machine learning', regex=True)\n",
    "vacancies['skills_from_key_skills']=vacancies['skills_from_key_skills'].str.replace(r'\\b, powerbi,\\b', ', power bi,', regex=True)\n",
    "vacancies['skills_from_key_skills']=vacancies['skills_from_key_skills'].str.replace(r'\\b, bi,\\b', ', power bi,', regex=True)\n",
    "vacancies['skills_from_key_skills']=vacancies['skills_from_key_skills'].str.replace(r'\\bработа с большим объемом информации\\b', 'data base', regex=True)\n",
    "vacancies['skills_from_key_skills']=vacancies['skills_from_key_skills'].str.replace(r'\\bбазы данных\\b', 'data base', regex=True)\n",
    "vacancies['skills_from_key_skills']=vacancies['skills_from_key_skills'].str.replace(r'\\bdata science\\b', 'data base', regex=True)\n",
    "vacancies['skills_from_key_skills']=vacancies['skills_from_key_skills'].str.replace(r'\\bработа с базами данных\\b', 'data base', regex=True)\n",
    "vacancies['skills_from_key_skills']=vacancies['skills_from_key_skills'].str.replace(r'\\bаналитика\\b', 'data analysis', regex=True)\n",
    "vacancies['skills_from_key_skills']=vacancies['skills_from_key_skills'].str.replace(r'\\bаналитический склад ума\\b', 'аналитическое мышление', regex=True)\n",
    "vacancies['skills_from_key_skills']=vacancies['skills_from_key_skills'].str.replace(r'\\bматематическая статистика\\b', 'statistics', regex=True)\n",
    "vacancies['skills_from_key_skills']=vacancies['skills_from_key_skills'].str.replace(r'\\bматематический анализ\\b', 'statistics', regex=True)\n",
    "vacancies['skills_from_key_skills']=vacancies['skills_from_key_skills'].str.replace(r'\\bстатистика\\b', 'statistics', regex=True)\n",
    "vacancies['skills_from_key_skills']=vacancies['skills_from_key_skills'].str.replace(r'\\bстатистический анализ\\b', 'statistics', regex=True)\n",
    "vacancies['skills_from_key_skills']=vacancies['skills_from_key_skills'].str.replace(r'\\bюнит-экономика\\b', 'unit economics', regex=True)\n",
    "vacancies['skills_from_key_skills']=vacancies['skills_from_key_skills'].str.replace(r'\\ba/b тесты\\b', 'a/b test', regex=True)\n",
    "vacancies['skills_from_key_skills']=vacancies['skills_from_key_skills'].str.replace(r'\\bанглийский язык\\b', 'english', regex=True)\n",
    "vacancies['skills_from_key_skills']=vacancies['skills_from_key_skills'].str.replace(r'\\b, анализ,\\b', ', statistics,', regex=True)\n",
    "vacancies['skills_from_key_skills']=vacancies['skills_from_key_skills'].str.replace(r'\\bматематическое моделирование\\b', 'math modeling', regex=True)\n",
    "vacancies['skills_from_key_skills']=vacancies['skills_from_key_skills'].str.replace(r'\\bаналитические исследования\\b', 'researh', regex=True)\n",
    "vacancies['skills_from_key_skills']=vacancies['skills_from_key_skills'].str.replace(r'\\bанализ бизнес-показателей\\b', 'business analytics', regex=True)\n",
    "vacancies['skills_from_key_skills']=vacancies['skills_from_key_skills'].str.replace(r'\\bанализ бизнес показателей\\b', 'business analytics', regex=True)\n",
    "vacancies['skills_from_key_skills']=vacancies['skills_from_key_skills'].str.replace(r'\\bбизнес-анализ\\b', 'business analytics', regex=True)\n",
    "vacancies['skills_from_key_skills']=vacancies['skills_from_key_skills'].str.replace(r'\\bпрогнозирование\\b', 'forecast', regex=True)\n",
    "\n",
    "# Преобразуем колонку 'skills_from_key_skills' в список для дальнейшей обработки\n",
    "skills_data = vacancies['skills_from_key_skills'].to_list()\n",
    "\n",
    "# Инициализируем словарь для подсчета частоты встречаемости каждого навыка\n",
    "counter = {}\n",
    "# перебираем навыки в списке 'skills_data'\n",
    "for sequence in skills_data:\n",
    "    # Разделяем строку с навыками на уникальные элементы и преобразуем в множество\n",
    "    skills = set(sequence.split(', '))\n",
    "    # Подсчитываем количество вхождений каждого навыка\n",
    "    for skill in skills:\n",
    "        counter[skill] = counter.get(skill, 0) + 1\n",
    "\n",
    "# Фильтруем словарь 'counter', оставляя только те навыки, которые встречаются более 20 раз\n",
    "counter = {k: v for k, v in counter.items() if v > 20}\n",
    "\n",
    "# Сортируем словарь 'counter' по убыванию частоты встречаемости навыков\n",
    "counter = dict(sorted(counter.items(), key=lambda item: item[1], reverse=True))"
   ]
  },
  {
   "cell_type": "markdown",
   "id": "156403b6-3d23-4a1a-9f2a-25eb168ed8e6",
   "metadata": {},
   "source": [
    "Посмотрим на словарь скиллов который у нас получился и кол-во посчитанных значений."
   ]
  },
  {
   "cell_type": "code",
   "execution_count": 36,
   "id": "bbf7e61f-cd0e-42bb-8929-1b88605844a6",
   "metadata": {},
   "outputs": [
    {
     "data": {
      "text/plain": [
       "{'sql': 1006,\n",
       " 'python': 993,\n",
       " 'pandas': 656,\n",
       " 'data analysis': 619,\n",
       " '': 536,\n",
       " 'data base': 488,\n",
       " 'документация': 433,\n",
       " 'аналитическое мышление': 415,\n",
       " 'коммуникация': 286,\n",
       " 'machine learning': 264,\n",
       " 'statistics': 260,\n",
       " 'power bi': 230,\n",
       " 'excel,': 209,\n",
       " 'confluence': 190,\n",
       " 'ms sql': 146,\n",
       " 'big data': 119,\n",
       " 'researh': 114,\n",
       " 'postgresql': 113,\n",
       " 'business analytics': 112,\n",
       " 'unit economics': 99,\n",
       " 'сбор и анализ информации': 98,\n",
       " 'tableau': 94,\n",
       " 'pytorch': 82,\n",
       " 'hadoop': 77,\n",
       " 'spark': 77,\n",
       " 'nlp': 77,\n",
       " 'numpy': 75,\n",
       " 'english': 72,\n",
       " 'a/b test': 71,\n",
       " 'git': 70,\n",
       " 'проактивность': 66,\n",
       " 'excel': 65,\n",
       " 'etl': 64,\n",
       " 'forecast': 63,\n",
       " 'ms powerpoint': 63,\n",
       " 'clickhouse': 62,\n",
       " 'math modeling': 56,\n",
       " 'airflow': 53,\n",
       " 'docker': 45,\n",
       " 'linux': 40,\n",
       " 'работа в команде': 40,\n",
       " 'dwh': 39,\n",
       " 'ms power bi': 36,\n",
       " 'vba': 32,\n",
       " 'подготовка презентаций': 32,\n",
       " 'deep learning': 31,\n",
       " 'tensorflow': 30,\n",
       " 'креативность': 28,\n",
       " 'power query': 28,\n",
       " 'деловая коммуникация': 27,\n",
       " 'data mining': 27,\n",
       " 'bi': 27,\n",
       " 'визуализация данных': 27,\n",
       " 'it': 27,\n",
       " 'powerbi': 26,\n",
       " 'hive': 24,\n",
       " 'подготовка отчетов': 23,\n",
       " 'scikit-learn': 22,\n",
       " 'oracle': 22,\n",
       " 'pyspark': 22,\n",
       " 'computer vision': 22,\n",
       " 'bpmn': 21,\n",
       " 'greenplum': 21,\n",
       " 'анализ рынка': 21,\n",
       " 'llm': 21,\n",
       " 'mlflow': 21}"
      ]
     },
     "execution_count": 36,
     "metadata": {},
     "output_type": "execute_result"
    }
   ],
   "source": [
    "counter"
   ]
  },
  {
   "cell_type": "markdown",
   "id": "4b3d3d58-376b-43ef-874e-6bef469e40c1",
   "metadata": {},
   "source": [
    "Для аналитиков и датасайентистов одни из самых популярных скиллов: sql, python (+pandas), power bi, excel"
   ]
  },
  {
   "cell_type": "markdown",
   "id": "f0b0df81-ecc4-4a07-9e07-743c709cd021",
   "metadata": {},
   "source": [
    "Выделим в список основные скиллы и дадим им признак - хард или софт."
   ]
  },
  {
   "cell_type": "code",
   "execution_count": 37,
   "id": "198f2d69-0070-434b-ad37-37508d3a2e0f",
   "metadata": {},
   "outputs": [],
   "source": [
    "# извлечем скиллы из списков\n",
    "def extract_skills(skill_list):\n",
    "    if pd.isna(skill_list):\n",
    "        return '', ''\n",
    "    hard_skills = []\n",
    "    soft_skills = []\n",
    "    for skill in skill_list.split(','):\n",
    "        skill = skill.strip()\n",
    "        if skill:\n",
    "            if skill.isascii():\n",
    "                hard_skills.append(skill)\n",
    "            else:\n",
    "                soft_skills.append(skill)\n",
    "    return ', '.join(hard_skills), ', '.join(soft_skills)\n",
    "\n",
    "# Применим функцию к столбцу с ключевыми скилами приведенные к нижнему регистру\n",
    "vacancies[['hard_skills', 'soft_skills']] = vacancies['skills_from_key_skills'].apply(extract_skills).apply(pd.Series)\n"
   ]
  },
  {
   "cell_type": "markdown",
   "id": "574b4a2f-151d-4297-982f-3e8b93daff75",
   "metadata": {},
   "source": [
    "Разделим навыки из столбца skills_from_key_skills на хард и софт навыки, получим 2 столбца soft_skills и hard_skills:"
   ]
  },
  {
   "cell_type": "code",
   "execution_count": 38,
   "id": "285e75a9-3660-4cc7-8d13-47be8df36ea9",
   "metadata": {},
   "outputs": [],
   "source": [
    "vacancies['hard_skills'] = vacancies['hard_skills'].replace('', 'нет данных')\n",
    "vacancies['soft_skills'] = vacancies['soft_skills'].replace('', 'нет данных')"
   ]
  },
  {
   "cell_type": "code",
   "execution_count": 39,
   "id": "bbf5473b-7499-4d4c-a072-8aa0d9971b53",
   "metadata": {},
   "outputs": [
    {
     "name": "stdout",
     "output_type": "stream",
     "text": [
      "Топ-5 наиболее важных hard skills для грейда Junior (no experince) (Аналитик данных):\n",
      "data analysis    44\n",
      "data base        43\n",
      "sql              37\n",
      "python           34\n",
      "excel            34\n",
      "Name: count, dtype: int64\n",
      "Топ-5 наиболее важных soft_skills для грейда Junior (no experince) (Аналитик данных):\n",
      "аналитическое мышление      42\n",
      "документация                17\n",
      "коммуникация                17\n",
      "сбор и анализ информации     8\n",
      "проактивность                6\n",
      "Name: count, dtype: int64\n",
      "\n",
      "==================================================\n",
      "\n",
      "Топ-5 наиболее важных hard skills для грейда Junior+ (1-3 years) (Аналитик данных):\n",
      "sql              469\n",
      "data analysis    441\n",
      "python           320\n",
      "data base        320\n",
      "excel            178\n",
      "Name: count, dtype: int64\n",
      "Топ-5 наиболее важных soft_skills для грейда Junior+ (1-3 years) (Аналитик данных):\n",
      "аналитическое мышление      258\n",
      "документация                150\n",
      "коммуникация                105\n",
      "сбор и анализ информации     64\n",
      "проактивность                29\n",
      "Name: count, dtype: int64\n",
      "\n",
      "==================================================\n",
      "\n",
      "Топ-5 наиболее важных hard skills для грейда Middle (3-6 years) (Аналитик данных):\n",
      "sql              249\n",
      "data analysis    224\n",
      "python           216\n",
      "data base        151\n",
      "pandas           104\n",
      "Name: count, dtype: int64\n",
      "Топ-5 наиболее важных soft_skills для грейда Middle (3-6 years) (Аналитик данных):\n",
      "документация                109\n",
      "аналитическое мышление       82\n",
      "коммуникация                 56\n",
      "сбор и анализ информации     24\n",
      "проактивность                15\n",
      "Name: count, dtype: int64\n",
      "\n",
      "==================================================\n",
      "\n",
      "Топ-5 наиболее важных hard skills для грейда Senior (6+ years) (Аналитик данных):\n",
      "python        9\n",
      "sql           9\n",
      "statistics    5\n",
      "confluence    4\n",
      "pandas        4\n",
      "Name: count, dtype: int64\n",
      "Топ-5 наиболее важных soft_skills для грейда Senior (6+ years) (Аналитик данных):\n",
      "документация               4\n",
      "проактивность              3\n",
      "презентация результатов    3\n",
      "коммуникация               3\n",
      "внимание к деталям         2\n",
      "Name: count, dtype: int64\n",
      "\n",
      "==================================================\n",
      "\n"
     ]
    }
   ],
   "source": [
    "experience_levels = vacancies['experience'].unique()\n",
    "type=vacancies['name_type'].unique()\n",
    "\n",
    "# Функция для определения топ-N наиболее важных навыков\n",
    "def find_top_skills(vacancies, skill_column, n):\n",
    "    # Объединение списков всех навыков для каждой строки\n",
    "    all_skills = ','.join(vacancies[skill_column].dropna()).split(',')\n",
    "    # Убираем значения \"нет данных\"\n",
    "    all_skills = [skill.strip() for skill in all_skills if skill.lower() not in ['нет данных']]\n",
    "    # Создание Series из списка навыков и их количества\n",
    "    skill_counts = pd.Series(all_skills).value_counts()\n",
    "    \n",
    "    # Вывод топ-N наиболее часто встречающихся навыков\n",
    "    print(skill_counts.head(n))\n",
    "\n",
    "# Для каждого уровня грейда и вакансии Аналитик данных по скиллам\n",
    "for level in experience_levels:\n",
    "    print(f\"Топ-5 наиболее важных hard skills для грейда {level} (Аналитик данных):\")\n",
    "    find_top_skills((vacancies[(vacancies['experience'] == level)&(vacancies['name_type'] == 'da')]), 'hard_skills', 5)\n",
    "    print(f\"Топ-5 наиболее важных soft_skills для грейда {level} (Аналитик данных):\")\n",
    "    find_top_skills((vacancies[(vacancies['experience'] == level)&(vacancies['name_type'] == 'da')]), 'soft_skills', 5)\n",
    "    print(\"\\n\" + \"=\"*50 + \"\\n\")"
   ]
  },
  {
   "cell_type": "code",
   "execution_count": 40,
   "id": "8426b47a-1270-4da4-8f41-89c341329b0b",
   "metadata": {},
   "outputs": [
    {
     "name": "stdout",
     "output_type": "stream",
     "text": [
      "Топ-5 наиболее важных hard skills для грейда Junior (no experince) (Дата сайентист):\n",
      "python              16\n",
      "machine learning    14\n",
      "statistics           9\n",
      "data mining          7\n",
      "pandas               7\n",
      "Name: count, dtype: int64\n",
      "Топ-5 наиболее важных soft_skills для грейда Junior (no experince) (Дата сайентист):\n",
      "документация                       4\n",
      "аналитическое мышление             3\n",
      "разработка поисковых технологий    2\n",
      "коммуникация                       1\n",
      "проактивность                      1\n",
      "Name: count, dtype: int64\n",
      "\n",
      "==================================================\n",
      "\n",
      "Топ-5 наиболее важных hard skills для грейда Junior+ (1-3 years) (Дата сайентист):\n",
      "python              185\n",
      "pandas              178\n",
      "machine learning    131\n",
      "sql                 128\n",
      "statistics           77\n",
      "Name: count, dtype: int64\n",
      "Топ-5 наиболее важных soft_skills для грейда Junior+ (1-3 years) (Дата сайентист):\n",
      "документация              57\n",
      "коммуникация              42\n",
      "аналитическое мышление    23\n",
      "работа в команде           7\n",
      "умение планировать         6\n",
      "Name: count, dtype: int64\n",
      "\n",
      "==================================================\n",
      "\n",
      "Топ-5 наиболее важных hard skills для грейда Middle (3-6 years) (Дата сайентист):\n",
      "python              202\n",
      "pandas              160\n",
      "machine learning    147\n",
      "sql                 105\n",
      "data base            76\n",
      "Name: count, dtype: int64\n",
      "Топ-5 наиболее важных soft_skills для грейда Middle (3-6 years) (Дата сайентист):\n",
      "документация                       86\n",
      "коммуникация                       60\n",
      "аналитическое мышление             14\n",
      "разработка поисковых технологий    12\n",
      "проактивность                      10\n",
      "Name: count, dtype: int64\n",
      "\n",
      "==================================================\n",
      "\n",
      "Топ-5 наиболее важных hard skills для грейда Senior (6+ years) (Дата сайентист):\n",
      "python              11\n",
      "machine learning    10\n",
      "pandas               7\n",
      "data analysis        6\n",
      "sql                  6\n",
      "Name: count, dtype: int64\n",
      "Топ-5 наиболее важных soft_skills для грейда Senior (6+ years) (Дата сайентист):\n",
      "документация           6\n",
      "управление командой    3\n",
      "коммуникация           2\n",
      "ии                     1\n",
      "коммуникабельность     1\n",
      "Name: count, dtype: int64\n",
      "\n",
      "==================================================\n",
      "\n"
     ]
    }
   ],
   "source": [
    "# Для каждого уровня грейда и вакансии Дата сайентист\n",
    "for level in experience_levels:\n",
    "    print(f\"Топ-5 наиболее важных hard skills для грейда {level} (Дата сайентист):\")\n",
    "    find_top_skills((vacancies[(vacancies['experience'] == level)&(vacancies['name_type'] == 'ds')]), 'hard_skills', 5)\n",
    "    print(f\"Топ-5 наиболее важных soft_skills для грейда {level} (Дата сайентист):\")\n",
    "    find_top_skills((vacancies[(vacancies['experience'] == level)&(vacancies['name_type'] == 'ds')]), 'soft_skills', 5)\n",
    "    print(\"\\n\" + \"=\"*50 + \"\\n\")"
   ]
  },
  {
   "cell_type": "markdown",
   "id": "3479fd75-a475-4a89-9aa5-dda188f12d42",
   "metadata": {},
   "source": [
    "Разделение навыковв происходите неидеально, но для определения основных навыков и тенденции вполне подходит."
   ]
  },
  {
   "cell_type": "markdown",
   "id": "2161b0e1-a177-42e4-b4fb-42700e221905",
   "metadata": {},
   "source": [
    "\n",
    "Вывод по предобработке данных:\n",
    "\n",
    "В процессе предобработки данных были проведены следующие действия:\n",
    "- Объединены 2 датафрейма с вакансиями для удобства анализа, при этом добавлен столбец, в котором появился признак к какой вакансии относится запись (DA/DS)\n",
    "- Удалены дубликаты, возникшие при объединении датафреймов.\n",
    "- Скиллы распределены на хард и софт скиллы. Произведена замена близких по значению скиллов.\n",
    "- Создана переменная salary_avg в которой произведен расчет средней ЗП. Заполнены пропуски \"ЗП не указана\" значениями средней ЗП \n",
    "Данные готовы к дальнейшему анализу."
   ]
  },
  {
   "cell_type": "markdown",
   "id": "aa5044bf-ef45-456c-acd9-f3c4af30bb2c",
   "metadata": {},
   "source": [
    "# Исследовательский анализ данных"
   ]
  },
  {
   "cell_type": "markdown",
   "id": "f7d1cbd0-6713-441b-b0a3-560b97191721",
   "metadata": {},
   "source": [
    "# Посмотрим на кол-во вакансий аналитиков и датасайентистов в выборке"
   ]
  },
  {
   "cell_type": "code",
   "execution_count": 41,
   "id": "cbda3648-b1b3-458b-b2cb-5cb14eee4a0d",
   "metadata": {},
   "outputs": [
    {
     "data": {
      "image/png": "[encoded data removed]",
      "text/plain": [
       "<Figure size 640x480 with 1 Axes>"
      ]
     },
     "metadata": {},
     "output_type": "display_data"
    }
   ],
   "source": [
    "df = vacancies['name_type'].value_counts().reset_index()\n",
    "labels = ['Аналитики', 'Датасайентисты']\n",
    "fig, ax = plt.subplots()\n",
    "ax.pie(df['count'], \n",
    "       labels=labels, \n",
    "       shadow=True, \n",
    "       startangle=90, \n",
    "       autopct='%1.f%%', \n",
    "       textprops={'fontsize': 10})\n",
    "ax.set_title('Доля аналитиков и датасайентистов', fontsize=14)\n",
    "ax.tick_params(labelsize=5)\n",
    "plt.savefig('share.png')\n",
    "plt.show()"
   ]
  },
  {
   "cell_type": "markdown",
   "id": "e1acefbf-36c5-4c13-a733-2e872e2a2b7b",
   "metadata": {},
   "source": [
    "Вакансий аналитиков почти в два с раза больше чем вакансий датасайентистов."
   ]
  },
  {
   "cell_type": "code",
   "execution_count": 42,
   "id": "5442f9bc-300c-420a-b31f-fede76037523",
   "metadata": {},
   "outputs": [
    {
     "name": "stdout",
     "output_type": "stream",
     "text": [
      "Общее количество вакансий аналитиков - 1801\n",
      "Общее количество вакансий датасайентистов - 920\n"
     ]
    },
    {
     "data": {
      "image/png": "[encoded data removed]",
      "text/plain": [
       "<Figure size 1500x500 with 2 Axes>"
      ]
     },
     "metadata": {},
     "output_type": "display_data"
    }
   ],
   "source": [
    "df_da = vacancies[vacancies['name_type'] == 'da']['experience'].value_counts().sort_index()\n",
    "df_ds = vacancies[vacancies['name_type'] == 'ds']['experience'].value_counts().sort_index()\n",
    "\n",
    "print(f'Общее количество вакансий аналитиков - {df_da.sum()}')\n",
    "print(f'Общее количество вакансий датасайентистов - {df_ds.sum()}')\n",
    "\n",
    "# Создаем фигуру и оси для двух подграфиков\n",
    "fig, axes = plt.subplots(1, 2, figsize=(15, 5))\n",
    "\n",
    "# Круговая диаграмма для аналитиков\n",
    "axes[0].pie(\n",
    "      df_da, \n",
    "      labels=[lbl + f' - {value / df_da.sum():.1%}' for lbl, value in df_da.items()], \n",
    "      startangle=140, \n",
    "      textprops={'fontsize': 10},\n",
    "      shadow=True\n",
    ")\n",
    "axes[0].set_title('Аналитики', fontsize=14)\n",
    "\n",
    "# Круговая диаграмма для датасайентистов\n",
    "axes[1].pie(\n",
    "    df_ds, \n",
    "    labels=[lbl + f' - {value / df_ds.sum():.1%}' for lbl, value in df_ds.items()],\n",
    "    startangle=120, \n",
    "    textprops={'fontsize': 10},\n",
    "    shadow=True\n",
    "    )\n",
    "axes[1].set_title('Датасайентисты', fontsize=12)\n",
    "\n",
    "# Добавляем общий заголовок для всех подграфиков\n",
    "plt.suptitle('Доли грейдов', fontsize=12, fontweight='bold')\n",
    "plt.savefig('share_experience.png')\n",
    "# Отображаем график\n",
    "plt.show()\n"
   ]
  },
  {
   "cell_type": "markdown",
   "id": "6b3886ba-54ca-493d-9af3-979fc0a6c663",
   "metadata": {},
   "source": [
    "Среди вакансий аналитиков - более половины вакансий (61%) с грейдом Junior+ (1-3 years), еще 31% - это вакансии уровня Middle (3-6 years). Среди вакансий датасайентистов тоже преобладают вакансии уровня Junior+ и Middle, но здесь больше вакансий уровня Middle (около 48%). Интересно, что среди датасайентистов больше вакансий для уровня Senior(6+ years). Cреди аналитиков наблюдается немного большая потребность в специалистах на уровне Junior без опыта по сравнению с датасайентистыми. Такое распределение может обуславливаться тем, что \"вход\" в профессию аналитиков проще, чем для датасайентистов. А аналитики с большим опытом работы - могут переквалифицироваться в датасайентистов."
   ]
  },
  {
   "cell_type": "markdown",
   "id": "b68470b0-c33b-4c8f-a038-1f43ff254b7c",
   "metadata": {},
   "source": [
    "## Топ городов по количеству вакансий"
   ]
  },
  {
   "cell_type": "code",
   "execution_count": 43,
   "id": "c4bf91b5-755d-488d-9485-4f25cd5990cc",
   "metadata": {},
   "outputs": [],
   "source": [
    "# Построение горизонтальных столбчатых диаграмм для двух категорий вакансий\n",
    "# Функция создает две горизонтальные столбчатые диаграммы, отображающие топ-5 популярных значений \n",
    "# для указанного столбца в датасете вакансий, разделенных по категориям 'Аналитики данных' и 'Датасайентисты'.\n",
    "def plot_top_popular_values(vacancies: pd.DataFrame, column: str, *, title: str, \n",
    "                            rus_feature: str, top_n: int = 5, da_shift: float = 165, \n",
    "                            ds_shift: float = 72, height: float = 4, top: float = 0.8, \n",
    "                            wspace: float = 0.83, lower: float = 0.2) -> None:\n",
    "   \n",
    "    # создаем основу для двух графиков и определяем размер\n",
    "    fig, axes = plt.subplots(nrows=1, ncols=2)\n",
    "    fig.set_size_inches(18, height)\n",
    "\n",
    "    # данные для диаграмм\n",
    "    data_da = vacancies.loc[vacancies.name_type == 'da', column].value_counts()\n",
    "    data_da_share = data_da / data_da.sum()\n",
    "\n",
    "    data_ds = vacancies.loc[vacancies.name_type == 'ds', column].value_counts()\n",
    "    data_ds_share = data_ds / data_ds.sum()\n",
    "\n",
    "    # построение диаграмм\n",
    "    sns.barplot(x=data_da[:top_n], y=data_da.index[:top_n], ax=axes[0])\n",
    "    sns.barplot(x=data_ds[:top_n], y=data_ds.index[:top_n], ax=axes[1])\n",
    "\n",
    "    # текстовые метки для столбцов\n",
    "    for i, val in enumerate(data_da_share.values[:top_n]):\n",
    "        axes[0].text(da_shift, i + lower, f\"{round(val*100, 1)}%\", \n",
    "                     horizontalalignment='center', \n",
    "                     verticalalignment='bottom', \n",
    "                     fontdict={'fontweight':500, 'size':10, 'color': 'black'})\n",
    "\n",
    "    for i, val in enumerate(data_ds_share.values[:top_n]):\n",
    "        axes[1].text(ds_shift, i + lower, f\"{round(val*100, 1)}%\", \n",
    "                     horizontalalignment='center', \n",
    "                     verticalalignment='bottom', \n",
    "                     fontdict={'fontweight':500, 'size':10, 'color': 'black'})\n",
    "\n",
    "    # заголовок и размер шрифта\n",
    "    fig.suptitle(title, fontsize=16, fontweight=\"bold\")\n",
    "    # подписи\n",
    "    axes[0].set_title('Аналитики данных', fontsize=14)\n",
    "    axes[1].set_title('Датасайентисты', fontsize=14)\n",
    "    axes[0].set_xlabel('количество наблюдений', fontsize=12)\n",
    "    axes[1].set_xlabel('количество наблюдений', fontsize=12)\n",
    "    axes[0].set_ylabel(rus_feature, fontsize=12)\n",
    "    axes[1].set_ylabel(rus_feature, fontsize=12)\n",
    "    plt.subplots_adjust(wspace=wspace, top=top)\n",
    "    plt.grid(False)\n",
    "    plt.savefig('city.png')\n",
    "    plt.savefig('employer.png')\n",
    "\n",
    "    # Отображаем график\n",
    "    plt.show()"
   ]
  },
  {
   "cell_type": "code",
   "execution_count": 44,
   "id": "282de532-d951-4aef-b366-6c98165321a7",
   "metadata": {},
   "outputs": [
    {
     "data": {
      "image/png": "[encoded data removed]",
      "text/plain": [
       "<Figure size 1800x400 with 2 Axes>"
      ]
     },
     "metadata": {},
     "output_type": "display_data"
    }
   ],
   "source": [
    "plot_top_popular_values(\n",
    "    vacancies, \n",
    "    'area', \n",
    "    title='Топ-5 городов по размещению вакансий', \n",
    "    rus_feature='Название вакансии',\n",
    "    top_n=5\n",
    ")\n"
   ]
  },
  {
   "cell_type": "markdown",
   "id": "3f4e8976-16c1-4540-82d8-9973aec9d048",
   "metadata": {},
   "source": [
    "Основная часть вакансий размещена в г. Москве, это характерно как для аналитиков, так и для датасайентистов. Соответственно дальнейший анализ по городам производить нецелесообразно. "
   ]
  },
  {
   "cell_type": "markdown",
   "id": "b1a2ddd7-4451-4194-94ea-651839a91403",
   "metadata": {},
   "source": [
    "## Топ работодателей по количеству вакансий"
   ]
  },
  {
   "cell_type": "code",
   "execution_count": 45,
   "id": "eafcadb3-32b3-414f-9c6e-b55a58a4a353",
   "metadata": {},
   "outputs": [
    {
     "data": {
      "image/png": "[encoded data removed]",
      "text/plain": [
       "<Figure size 1800x400 with 2 Axes>"
      ]
     },
     "metadata": {},
     "output_type": "display_data"
    }
   ],
   "source": [
    "\n",
    "plot_top_popular_values(\n",
    "    vacancies, \n",
    "    'employer', \n",
    "    title='Топ-5 работодателей по размещению вакансий', \n",
    "    rus_feature='Название вакансии',\n",
    "    top_n=5\n",
    ")\n"
   ]
  },
  {
   "cell_type": "markdown",
   "id": "a7ac172f-f9c5-4943-a0b7-5bc5c420017b",
   "metadata": {},
   "source": [
    "Сбер является лидером по кол-ву размещаемых вакансий, как для аналитиков (13,5%), так и для датасайентистов (21%). Вакансии Банка ВТБ и компании Т1 можно было бы объединить в 1 группу, т.к. это аффилированные компании, но они даже в сумме менее 5% от всех размещенных вакансий у аналитиков. "
   ]
  },
  {
   "cell_type": "code",
   "execution_count": 46,
   "id": "558845cf-7595-4089-be07-907ae25f9b60",
   "metadata": {
    "scrolled": true
   },
   "outputs": [
    {
     "name": "stderr",
     "output_type": "stream",
     "text": [
      "C:\\ProgramData\\anaconda3\\Lib\\site-packages\\seaborn\\categorical.py:1794: FutureWarning: use_inf_as_na option is deprecated and will be removed in a future version. Convert inf values to NaN before operating instead.\n",
      "  with pd.option_context('mode.use_inf_as_na', True):\n",
      "C:\\ProgramData\\anaconda3\\Lib\\site-packages\\seaborn\\categorical.py:1794: FutureWarning: use_inf_as_na option is deprecated and will be removed in a future version. Convert inf values to NaN before operating instead.\n",
      "  with pd.option_context('mode.use_inf_as_na', True):\n",
      "C:\\ProgramData\\anaconda3\\Lib\\site-packages\\seaborn\\categorical.py:1794: FutureWarning: use_inf_as_na option is deprecated and will be removed in a future version. Convert inf values to NaN before operating instead.\n",
      "  with pd.option_context('mode.use_inf_as_na', True):\n",
      "C:\\ProgramData\\anaconda3\\Lib\\site-packages\\seaborn\\categorical.py:1794: FutureWarning: use_inf_as_na option is deprecated and will be removed in a future version. Convert inf values to NaN before operating instead.\n",
      "  with pd.option_context('mode.use_inf_as_na', True):\n",
      "C:\\ProgramData\\anaconda3\\Lib\\site-packages\\seaborn\\categorical.py:1794: FutureWarning: use_inf_as_na option is deprecated and will be removed in a future version. Convert inf values to NaN before operating instead.\n",
      "  with pd.option_context('mode.use_inf_as_na', True):\n",
      "C:\\ProgramData\\anaconda3\\Lib\\site-packages\\seaborn\\categorical.py:1794: FutureWarning: use_inf_as_na option is deprecated and will be removed in a future version. Convert inf values to NaN before operating instead.\n",
      "  with pd.option_context('mode.use_inf_as_na', True):\n",
      "C:\\ProgramData\\anaconda3\\Lib\\site-packages\\seaborn\\categorical.py:1794: FutureWarning: use_inf_as_na option is deprecated and will be removed in a future version. Convert inf values to NaN before operating instead.\n",
      "  with pd.option_context('mode.use_inf_as_na', True):\n",
      "C:\\ProgramData\\anaconda3\\Lib\\site-packages\\seaborn\\categorical.py:1794: FutureWarning: use_inf_as_na option is deprecated and will be removed in a future version. Convert inf values to NaN before operating instead.\n",
      "  with pd.option_context('mode.use_inf_as_na', True):\n"
     ]
    },
    {
     "data": {
      "image/png": "[encoded data removed]",
      "text/plain": [
       "<Figure size 1500x500 with 1 Axes>"
      ]
     },
     "metadata": {},
     "output_type": "display_data"
    }
   ],
   "source": [
    "order = vacancies.groupby(['name_type', 'experience']).agg({'salary_avg': 'median'}).reset_index().iloc[:4]['experience']\n",
    "fig, ax = plt.subplots(figsize=(15, 5))\n",
    "sns.boxenplot(data=vacancies, x='salary_avg', y='experience', hue='name_type', order=order, ax=ax)\n",
    "ax.set_title('Распределение заработной платы', fontsize=12,)\n",
    "ax.set_ylabel('Опыт работы')\n",
    "ax.set_xlabel('средняя заработная плата (руб.)')\n",
    "\n",
    "\n",
    "analyst_patch = mpatches.Patch(color = '#a1c9f4', label='Aналитики')\n",
    "datascience_patch = mpatches.Patch(color = '#8de5a1',label='Датасайентисты')\n",
    "\n",
    "plt.legend(handles=[analyst_patch, datascience_patch], loc='upper right')\n",
    "plt.savefig('salary_avg.png')\n",
    "plt.show()"
   ]
  },
  {
   "cell_type": "markdown",
   "id": "f121e29b-a7d6-495c-b5ba-6cb11a433d73",
   "metadata": {},
   "source": [
    "Для начинающих специалистов без опыта и для экспертов с высоким уровнем квалификации информация разрозненная, поэтому нельзя делать вывод в этих категориях. Указанный уровень доходов аналитиков на уровнях junior+ и middle ниже, чем у датасайентистов с аналогичным опытом. Так, медианная зарплата аналитика на уровне junior+ составляет около 100 тыс. рублей, в то время как для датасайентистов этой же категории — более 200 тыс. рублей. Для специалистов middle уровня : медианная зарплата аналитика 200 тыс. рублей, тогда как у датасайентистов 300 тыс. рублей."
   ]
  },
  {
   "cell_type": "markdown",
   "id": "c5ed6884-4761-42aa-a148-594c08596dbd",
   "metadata": {},
   "source": [
    "# Наиболее желаемые кандидаты на вакансии Аналитик данных и Специалист по Data Science"
   ]
  },
  {
   "cell_type": "markdown",
   "id": "dd590a93-ed3f-417e-aedb-7c8fe5b4da40",
   "metadata": {},
   "source": [
    "Исходя из представленных данных о количестве вакансий для каждой категории опыта работы в области аналитики данных (Аналитиков данных) и бизнес-аналитики (Бизнес-аналитиков), можно сделать следующие выводы:\n",
    "\n",
    "В нашем датасете больше всего было представлено вакансий аналитиков, основной город размещения вакансии - Москва. Наибольшее число вакансий как для аналитиков, так и для сайнтистов предлагает СБЕР. Медианная заработная плата - 100 тыс. руб.\n",
    "\n",
    "- Для аналитиков данных:\n",
    "    Наиболее востребованной категорией опыта работы является Junior+ (1-3 years) - 60%.\n",
    "    Второй по популярности уровень опыта работы - Middle (3-6 years) 31% вакансий.\n",
    "    Интересно, что для аналитиков уровень Junior (no experience) более востребован (8%), чем у датасайентистов (5%). \n",
    "    А вот с уровнем Senior (6+ years) наоборот - у датасайентистов этот грейд запрашивается в 3% вакансий, тогда как у аналитиков всего 0,7% таких вакансий.\n",
    "  \n",
    "- Для дата сайентистов:\n",
    "    Наибольшее количество вакансий предлагается для уровня Middle (3-6 years) - 48% размещенных вакансий.\n",
    "    Уровень Junior+ (1-3 years) тоже востребован - 44% вакансий.\n",
    "\n",
    "Для начинающих специалистов без опыта и для экспертов с высоким уровнем квалификации информация по уровню дохода разрозненная, поэтому нельзя делать вывод в этих категориях. Указанный уровень доходов аналитиков на уровнях junior+ и middle ниже, чем у датасайентистов с аналогичным опытом. Так, медианная зарплата аналитика на уровне junior+ составляет около 100 тыс. рублей, в то время как для датасайентистов этой же категории — более 200 тыс. рублей. Для специалистов middle уровня: медианная зарплата аналитика 200 тыс. рублей, тогда как у датасайентистов 300 тыс. рублей.\n",
    "\n",
    "Наиболее востребованные скиллы для аналитиков и датасайентистов: Hard skills: sql, python (+pandas), power bi, excel. Soft skills: Аналитическое мышление, работа с документацией, коммуникация, часто встречается проактивность.\n",
    "\n",
    "Наиболее востребованные скиллы аналитика данных и датасайентиста для различных грейдов:\n",
    "\n",
    "- Для Junior (без опыта) и Junior+ (1-3 года опыта) как для Аналитика данных так и для дата сайентиста требования не сильно различаются: требуется sql, python, анализ данных. У датасайентистов чаще встречается требование умение работать с базами данных. При этом у датасайентистов дополнительно встречаются в требованиях знание статистики (в т.ч. мат. статистики) и знания по машинному обучению. Также у аналитиков чаще встречется в хард скиллах знание sql, а у датасайентистов больше популярен python. Ехсел у датасайентистов не сильно распростанен - это больше инструмент аналитика данных на начальных стажах.\n",
    "\n",
    "- По софт скиллам различия практически не наблюдаются.\n",
    "\n",
    "- Для более высококвалифицированных сотрудников Middle (3-6 лет опыта) и Senior (более 6 лет опыта) среди хард скилов помимо стандартных sql, python (+pandas), работой с базами данных появляется требование к знанию confluence - это пространство для командной работы. Также в софт скиллах для опытных сотрудников требуются навыки управления командой, подготовки и умения презентовать результаты. \n",
    "  "
   ]
  },
  {
   "cell_type": "markdown",
   "id": "187e4b91-7f70-4f07-9004-59f3a7f6af6e",
   "metadata": {},
   "source": [
    "# Общие выводы:"
   ]
  },
  {
   "cell_type": "markdown",
   "id": "6d19186d-775b-474c-ada9-922bbc1ace50",
   "metadata": {},
   "source": [
    "\n",
    "Мы провели исследование вакансий представленных на сайте HH.ru по специальностям Data Science и Аналитик данных.\n",
    "\n",
    "Целью проекта было выявить различия в предлагаемых вакансиях для Аналитиков данных и Специалистов по Data Science.\n",
    "\n",
    "Мы проанализировали полученные 2 датасета - вакансии аналитиков и датасайентистов.\n",
    "Для облегчения анализа 2 датасета были объединены в один.\n",
    "\n",
    "Вакансии представлены за период с 13.02.2024 по 11.06.2024\n",
    "Кол-во ваканий в динамике увеличивается к концу периода, что связано с закрытием более старых вакансий.\n",
    "\n",
    "1. В процессе выполнения анализа данных выявлены следующие проблемы и ошибки в исходных данных:\n",
    "    - Пропуски в данных: Обнаружены значительные пропуски в столбцах salary_from, salary_to, key_skills_from_key_skills_field, hard_skills_from_description, soft_skills_from_description\n",
    "    - Пропуски были заполнены по средней ЗП между salary_from, salary_to. \n",
    "    - Были удалены явные дубликаты, появившиеся при объединении таблиц. \n",
    "    - Разделили навыки из столбца key_skills на хард и софт навыки, создали 2 новых столбца soft_skills и hard_skills.\n",
    "\n",
    "2. Исходя из предоставленных данных, можно сделать следующие общие выводы:\n",
    "    Кол-во вакансий аналитиков на рынке труда больше (66%), чем вакансий для датасайентистов (34%). \n",
    "    К датасайентистам предъявляется более углубленные знания по статистике, python b sql.\n",
    "    Но во многих компаниях эти профессии очень сильно пересекаются, ведь Аналитика данных и Data Science являются разными этапами одного процесса.  - это видно из предъявляемых требований, очень часто они похожи или родственны.\n",
    "\n",
    "    *Чем занимается Data Scientist*\n",
    "    Специалисты по Data Science большую часть времени проводят за очисткой данных: подготавливают их для моделей и алгоритмов, обнаруживающих скрытые закономерности, которые не может выявить человек. Данные клиента загружают в модель и заставляют её строить прогнозы, на основании которых потом принимаются ключевые решения в бизнесе. Например, какой бюджет выделить на производство новой линейки товаров, какой процент выручки получит компания от их реализации и за какие сроки.\n",
    "   \n",
    "    *Чем занимается Аналитик данных*\n",
    "   \n",
    "     Главное отличие аналитика данных от специалиста по Data Science в том, что аналитик не владеет навыками машинного обучения, поэтому сам обрабатывает данные. Например, собирает у маркетологов все данные по прошлым рассылкам компании и сегментирует пользователей по возрасту, полу, локации, предпочтениям. Затем выявляет в данных закономерности и влияние параметров друг на друга. \n",
    "\n",
    "    Аналитик занимается ретроанализом, то есть анализом прошлого поведения пользователей, и на его основе ищет связи между эффективностью рассылки и показателями компании, предлагает рекомендации. Для специалиста по Data Science и для аналитика критически важны продвинутые знания доменной области — индустрии, в которой они работают, будь то ретейл, промышленность или финансы. \n",
    "\n",
    "    Аналитика данных и Data Science помогают быстро и правильно принимать решения только при условии, что специалист понимает, как выбор влияет на результаты. Поэтому он должен уметь сочетать инструменты машинного обучения с пониманием причинно-следственных связей, стоящих за данными.\n",
    "\n",
    "    - *Требуемые Hard Skills*:\n",
    "   Знание SQL, Python и Excel является важным как для аналитиков данных, так и для датасайентистов. Дополнительные навыки, знание статистики, умение работать с базами данных и машинного обучения характерны больше для датасайентистов.\n",
    "   - *Требуемые Soft Skills*:\n",
    "   Аналитическое мышление, способность работать с большим объемом информации и коммуникативные навыки остаются важными для всех уровней грейда. С увеличением опыта работы всё больше требуются навыки управления командой, подготовки и умение презентовать результаты.\n",
    "    - *Требуемый опыт работы*:\n",
    "   Вакансии с более низким уровнем опыта (Junior и Junior+) встречаются чаще всего как для аналитиков данных, так и для бизнес-аналитиков. Для более опытных кандидатов (Middle и Senior) количество вакансий значительно меньше.\n",
    "    - *ТОП работодателей*:\n",
    "   СБЕР в топе работодателей для различных уровней грейда - как для аналитиков данных, так и для датасайентистов. Это указывает на его ведущее положение на рынке и привлекательность для специалистов, большой объем различных проектов.\n",
    "    - *Уровень дохода*: Во многих вакансиях уровень дохода не указан. Зарплаты значительно увеличиваются с уровнем грейда. Медианная зарплата - 100 тыс. руб. Уровень дохода датасайентистов выше дохода аналитиков, особенно это заметно на более высоких грейдах. \n",
    "\n",
    "**Рекомендация:**  На сайте HH.ru при размещении вакансий необходимо ограничить возможность введения навыков от руки, это позволит избежать ошибок и дублирования данных. Требуется привести к единому написанию все навыки - возможно, дать возможность пользователю выбирать навыки из раскрывающегося списка. При единообразном написании будет легче находить вакансию пользователям сервиса.\n"
   ]
  },
  {
   "cell_type": "code",
   "execution_count": null,
   "id": "0c7e25a8-445a-430e-9658-0814cb770f3b",
   "metadata": {},
   "outputs": [],
   "source": []
  }
 ],
 "metadata": {
  "kernelspec": {
   "display_name": "Python 3 (ipykernel)",
   "language": "python",
   "name": "python3"
  },
  "language_info": {
   "codemirror_mode": {
    "name": "ipython",
    "version": 3
   },
   "file_extension": ".py",
   "mimetype": "text/x-python",
   "name": "python",
   "nbconvert_exporter": "python",
   "pygments_lexer": "ipython3",
   "version": "3.11.7"
  }
 },
 "nbformat": 4,
 "nbformat_minor": 5
}
